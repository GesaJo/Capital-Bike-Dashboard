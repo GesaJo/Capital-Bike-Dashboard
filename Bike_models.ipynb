{
 "cells": [
  {
   "cell_type": "code",
   "execution_count": 1,
   "metadata": {},
   "outputs": [],
   "source": [
    "import pandas as pd\n",
    "from sklearn.preprocessing import PolynomialFeatures"
   ]
  },
  {
   "cell_type": "code",
   "execution_count": 2,
   "metadata": {},
   "outputs": [],
   "source": [
    "df = pd.read_csv(\"data/df_main.csv\")"
   ]
  },
  {
   "cell_type": "markdown",
   "metadata": {},
   "source": [
    "### Train-test-split"
   ]
  },
  {
   "cell_type": "code",
   "execution_count": null,
   "metadata": {},
   "outputs": [],
   "source": []
  },
  {
   "cell_type": "code",
   "execution_count": null,
   "metadata": {},
   "outputs": [],
   "source": []
  },
  {
   "cell_type": "markdown",
   "metadata": {},
   "source": [
    "### Feature Engineering"
   ]
  },
  {
   "cell_type": "code",
   "execution_count": null,
   "metadata": {},
   "outputs": [],
   "source": [
    "# encode dummies for weekdays "
   ]
  },
  {
   "cell_type": "code",
   "execution_count": 4,
   "metadata": {},
   "outputs": [],
   "source": [
    "dummies = pd.get_dummies(df['weekday'])"
   ]
  },
  {
   "cell_type": "code",
   "execution_count": 7,
   "metadata": {},
   "outputs": [],
   "source": [
    "df_dummies = pd.concat([df, dummies.set_index(df.index)], axis=1) "
   ]
  },
  {
   "cell_type": "code",
   "execution_count": 9,
   "metadata": {},
   "outputs": [],
   "source": [
    "df_dummies.drop(\"Monday\", axis=1, inplace=True)"
   ]
  },
  {
   "cell_type": "code",
   "execution_count": 10,
   "metadata": {
    "collapsed": true
   },
   "outputs": [
    {
     "data": {
      "text/html": [
       "<div>\n",
       "<style scoped>\n",
       "    .dataframe tbody tr th:only-of-type {\n",
       "        vertical-align: middle;\n",
       "    }\n",
       "\n",
       "    .dataframe tbody tr th {\n",
       "        vertical-align: top;\n",
       "    }\n",
       "\n",
       "    .dataframe thead th {\n",
       "        text-align: right;\n",
       "    }\n",
       "</style>\n",
       "<table border=\"1\" class=\"dataframe\">\n",
       "  <thead>\n",
       "    <tr style=\"text-align: right;\">\n",
       "      <th></th>\n",
       "      <th>Unnamed: 0</th>\n",
       "      <th>Duration</th>\n",
       "      <th>Start date</th>\n",
       "      <th>End date</th>\n",
       "      <th>Start station number</th>\n",
       "      <th>Start station</th>\n",
       "      <th>End station number</th>\n",
       "      <th>End station</th>\n",
       "      <th>Bike number</th>\n",
       "      <th>Member type</th>\n",
       "      <th>...</th>\n",
       "      <th>SNOW</th>\n",
       "      <th>SNWD</th>\n",
       "      <th>TAVG</th>\n",
       "      <th>bad_weather</th>\n",
       "      <th>Friday</th>\n",
       "      <th>Saturday</th>\n",
       "      <th>Sunday</th>\n",
       "      <th>Thursday</th>\n",
       "      <th>Tuesday</th>\n",
       "      <th>Wednesday</th>\n",
       "    </tr>\n",
       "  </thead>\n",
       "  <tbody>\n",
       "    <tr>\n",
       "      <th>0</th>\n",
       "      <td>0</td>\n",
       "      <td>230</td>\n",
       "      <td>2019-01-01 00:04:48</td>\n",
       "      <td>2019-01-01 00:08:39</td>\n",
       "      <td>31203</td>\n",
       "      <td>14th &amp; Rhode Island Ave NW</td>\n",
       "      <td>31200</td>\n",
       "      <td>Massachusetts Ave &amp; Dupont Circle NW</td>\n",
       "      <td>E00141</td>\n",
       "      <td>Member</td>\n",
       "      <td>...</td>\n",
       "      <td>0.0</td>\n",
       "      <td>0.0</td>\n",
       "      <td>12.50</td>\n",
       "      <td>2.0</td>\n",
       "      <td>0</td>\n",
       "      <td>0</td>\n",
       "      <td>0</td>\n",
       "      <td>0</td>\n",
       "      <td>1</td>\n",
       "      <td>0</td>\n",
       "    </tr>\n",
       "    <tr>\n",
       "      <th>1</th>\n",
       "      <td>1</td>\n",
       "      <td>1549</td>\n",
       "      <td>2019-01-01 00:06:37</td>\n",
       "      <td>2019-01-01 00:32:27</td>\n",
       "      <td>31321</td>\n",
       "      <td>15th St &amp; Constitution Ave NW</td>\n",
       "      <td>31114</td>\n",
       "      <td>18th St &amp; Wyoming Ave NW</td>\n",
       "      <td>W24067</td>\n",
       "      <td>Casual</td>\n",
       "      <td>...</td>\n",
       "      <td>0.0</td>\n",
       "      <td>0.0</td>\n",
       "      <td>12.50</td>\n",
       "      <td>2.0</td>\n",
       "      <td>0</td>\n",
       "      <td>0</td>\n",
       "      <td>0</td>\n",
       "      <td>0</td>\n",
       "      <td>1</td>\n",
       "      <td>0</td>\n",
       "    </tr>\n",
       "    <tr>\n",
       "      <th>2</th>\n",
       "      <td>2</td>\n",
       "      <td>177</td>\n",
       "      <td>2019-01-01 00:08:46</td>\n",
       "      <td>2019-01-01 00:11:44</td>\n",
       "      <td>31104</td>\n",
       "      <td>Adams Mill &amp; Columbia Rd NW</td>\n",
       "      <td>31323</td>\n",
       "      <td>Woodley Park Metro / Calvert St &amp; Connecticut ...</td>\n",
       "      <td>W22654</td>\n",
       "      <td>Casual</td>\n",
       "      <td>...</td>\n",
       "      <td>0.0</td>\n",
       "      <td>0.0</td>\n",
       "      <td>12.50</td>\n",
       "      <td>2.0</td>\n",
       "      <td>0</td>\n",
       "      <td>0</td>\n",
       "      <td>0</td>\n",
       "      <td>0</td>\n",
       "      <td>1</td>\n",
       "      <td>0</td>\n",
       "    </tr>\n",
       "    <tr>\n",
       "      <th>3</th>\n",
       "      <td>3</td>\n",
       "      <td>228</td>\n",
       "      <td>2019-01-01 00:08:47</td>\n",
       "      <td>2019-01-01 00:12:35</td>\n",
       "      <td>31281</td>\n",
       "      <td>8th &amp; O St NW</td>\n",
       "      <td>31280</td>\n",
       "      <td>11th &amp; S St NW</td>\n",
       "      <td>W22336</td>\n",
       "      <td>Member</td>\n",
       "      <td>...</td>\n",
       "      <td>0.0</td>\n",
       "      <td>0.0</td>\n",
       "      <td>12.50</td>\n",
       "      <td>2.0</td>\n",
       "      <td>0</td>\n",
       "      <td>0</td>\n",
       "      <td>0</td>\n",
       "      <td>0</td>\n",
       "      <td>1</td>\n",
       "      <td>0</td>\n",
       "    </tr>\n",
       "    <tr>\n",
       "      <th>4</th>\n",
       "      <td>4</td>\n",
       "      <td>1300</td>\n",
       "      <td>2019-01-01 00:12:29</td>\n",
       "      <td>2019-01-01 00:34:10</td>\n",
       "      <td>31014</td>\n",
       "      <td>Lynn &amp; 19th St North</td>\n",
       "      <td>31923</td>\n",
       "      <td>Columbia Pike &amp; S Taylor St</td>\n",
       "      <td>70004</td>\n",
       "      <td>Member</td>\n",
       "      <td>...</td>\n",
       "      <td>0.0</td>\n",
       "      <td>0.0</td>\n",
       "      <td>12.50</td>\n",
       "      <td>2.0</td>\n",
       "      <td>0</td>\n",
       "      <td>0</td>\n",
       "      <td>0</td>\n",
       "      <td>0</td>\n",
       "      <td>1</td>\n",
       "      <td>0</td>\n",
       "    </tr>\n",
       "    <tr>\n",
       "      <th>...</th>\n",
       "      <td>...</td>\n",
       "      <td>...</td>\n",
       "      <td>...</td>\n",
       "      <td>...</td>\n",
       "      <td>...</td>\n",
       "      <td>...</td>\n",
       "      <td>...</td>\n",
       "      <td>...</td>\n",
       "      <td>...</td>\n",
       "      <td>...</td>\n",
       "      <td>...</td>\n",
       "      <td>...</td>\n",
       "      <td>...</td>\n",
       "      <td>...</td>\n",
       "      <td>...</td>\n",
       "      <td>...</td>\n",
       "      <td>...</td>\n",
       "      <td>...</td>\n",
       "      <td>...</td>\n",
       "      <td>...</td>\n",
       "      <td>...</td>\n",
       "    </tr>\n",
       "    <tr>\n",
       "      <th>3398412</th>\n",
       "      <td>3398412</td>\n",
       "      <td>130</td>\n",
       "      <td>2019-12-31 23:57:36</td>\n",
       "      <td>2019-12-31 23:59:46</td>\n",
       "      <td>31011</td>\n",
       "      <td>Crystal Dr &amp; 23rd St S</td>\n",
       "      <td>31009</td>\n",
       "      <td>Crystal Dr &amp; 27th St S</td>\n",
       "      <td>W21285</td>\n",
       "      <td>Member</td>\n",
       "      <td>...</td>\n",
       "      <td>0.0</td>\n",
       "      <td>0.0</td>\n",
       "      <td>8.06</td>\n",
       "      <td>1.0</td>\n",
       "      <td>0</td>\n",
       "      <td>0</td>\n",
       "      <td>0</td>\n",
       "      <td>0</td>\n",
       "      <td>1</td>\n",
       "      <td>0</td>\n",
       "    </tr>\n",
       "    <tr>\n",
       "      <th>3398413</th>\n",
       "      <td>3398413</td>\n",
       "      <td>664</td>\n",
       "      <td>2019-12-31 23:57:47</td>\n",
       "      <td>2020-01-01 00:08:51</td>\n",
       "      <td>31125</td>\n",
       "      <td>15th &amp; W St NW</td>\n",
       "      <td>31281</td>\n",
       "      <td>8th &amp; O St NW</td>\n",
       "      <td>W24197</td>\n",
       "      <td>Member</td>\n",
       "      <td>...</td>\n",
       "      <td>0.0</td>\n",
       "      <td>0.0</td>\n",
       "      <td>8.06</td>\n",
       "      <td>1.0</td>\n",
       "      <td>0</td>\n",
       "      <td>0</td>\n",
       "      <td>0</td>\n",
       "      <td>0</td>\n",
       "      <td>1</td>\n",
       "      <td>0</td>\n",
       "    </tr>\n",
       "    <tr>\n",
       "      <th>3398414</th>\n",
       "      <td>3398414</td>\n",
       "      <td>389</td>\n",
       "      <td>2019-12-31 23:59:37</td>\n",
       "      <td>2020-01-01 00:06:06</td>\n",
       "      <td>31047</td>\n",
       "      <td>Braddock Rd Metro</td>\n",
       "      <td>31085</td>\n",
       "      <td>Mount Vernon Ave &amp; E Nelson Ave</td>\n",
       "      <td>W21281</td>\n",
       "      <td>Member</td>\n",
       "      <td>...</td>\n",
       "      <td>0.0</td>\n",
       "      <td>0.0</td>\n",
       "      <td>8.06</td>\n",
       "      <td>1.0</td>\n",
       "      <td>0</td>\n",
       "      <td>0</td>\n",
       "      <td>0</td>\n",
       "      <td>0</td>\n",
       "      <td>1</td>\n",
       "      <td>0</td>\n",
       "    </tr>\n",
       "    <tr>\n",
       "      <th>3398415</th>\n",
       "      <td>3398415</td>\n",
       "      <td>962</td>\n",
       "      <td>2019-12-31 23:59:38</td>\n",
       "      <td>2020-01-01 00:15:40</td>\n",
       "      <td>31236</td>\n",
       "      <td>37th &amp; O St NW / Georgetown University</td>\n",
       "      <td>31214</td>\n",
       "      <td>17th &amp; Corcoran St NW</td>\n",
       "      <td>W00534</td>\n",
       "      <td>Member</td>\n",
       "      <td>...</td>\n",
       "      <td>0.0</td>\n",
       "      <td>0.0</td>\n",
       "      <td>8.06</td>\n",
       "      <td>1.0</td>\n",
       "      <td>0</td>\n",
       "      <td>0</td>\n",
       "      <td>0</td>\n",
       "      <td>0</td>\n",
       "      <td>1</td>\n",
       "      <td>0</td>\n",
       "    </tr>\n",
       "    <tr>\n",
       "      <th>3398416</th>\n",
       "      <td>3398416</td>\n",
       "      <td>183</td>\n",
       "      <td>2019-12-31 23:59:55</td>\n",
       "      <td>2020-01-01 00:02:58</td>\n",
       "      <td>31227</td>\n",
       "      <td>13th St &amp; New York Ave NW</td>\n",
       "      <td>31254</td>\n",
       "      <td>15th &amp; K St NW</td>\n",
       "      <td>W22782</td>\n",
       "      <td>Member</td>\n",
       "      <td>...</td>\n",
       "      <td>0.0</td>\n",
       "      <td>0.0</td>\n",
       "      <td>8.06</td>\n",
       "      <td>1.0</td>\n",
       "      <td>0</td>\n",
       "      <td>0</td>\n",
       "      <td>0</td>\n",
       "      <td>0</td>\n",
       "      <td>1</td>\n",
       "      <td>0</td>\n",
       "    </tr>\n",
       "  </tbody>\n",
       "</table>\n",
       "<p>3398417 rows × 26 columns</p>\n",
       "</div>"
      ],
      "text/plain": [
       "         Unnamed: 0  Duration           Start date             End date  \\\n",
       "0                 0       230  2019-01-01 00:04:48  2019-01-01 00:08:39   \n",
       "1                 1      1549  2019-01-01 00:06:37  2019-01-01 00:32:27   \n",
       "2                 2       177  2019-01-01 00:08:46  2019-01-01 00:11:44   \n",
       "3                 3       228  2019-01-01 00:08:47  2019-01-01 00:12:35   \n",
       "4                 4      1300  2019-01-01 00:12:29  2019-01-01 00:34:10   \n",
       "...             ...       ...                  ...                  ...   \n",
       "3398412     3398412       130  2019-12-31 23:57:36  2019-12-31 23:59:46   \n",
       "3398413     3398413       664  2019-12-31 23:57:47  2020-01-01 00:08:51   \n",
       "3398414     3398414       389  2019-12-31 23:59:37  2020-01-01 00:06:06   \n",
       "3398415     3398415       962  2019-12-31 23:59:38  2020-01-01 00:15:40   \n",
       "3398416     3398416       183  2019-12-31 23:59:55  2020-01-01 00:02:58   \n",
       "\n",
       "         Start station number                           Start station  \\\n",
       "0                       31203              14th & Rhode Island Ave NW   \n",
       "1                       31321           15th St & Constitution Ave NW   \n",
       "2                       31104             Adams Mill & Columbia Rd NW   \n",
       "3                       31281                           8th & O St NW   \n",
       "4                       31014                    Lynn & 19th St North   \n",
       "...                       ...                                     ...   \n",
       "3398412                 31011                  Crystal Dr & 23rd St S   \n",
       "3398413                 31125                          15th & W St NW   \n",
       "3398414                 31047                       Braddock Rd Metro   \n",
       "3398415                 31236  37th & O St NW / Georgetown University   \n",
       "3398416                 31227               13th St & New York Ave NW   \n",
       "\n",
       "         End station number  \\\n",
       "0                     31200   \n",
       "1                     31114   \n",
       "2                     31323   \n",
       "3                     31280   \n",
       "4                     31923   \n",
       "...                     ...   \n",
       "3398412               31009   \n",
       "3398413               31281   \n",
       "3398414               31085   \n",
       "3398415               31214   \n",
       "3398416               31254   \n",
       "\n",
       "                                               End station Bike number  \\\n",
       "0                     Massachusetts Ave & Dupont Circle NW      E00141   \n",
       "1                                 18th St & Wyoming Ave NW      W24067   \n",
       "2        Woodley Park Metro / Calvert St & Connecticut ...      W22654   \n",
       "3                                           11th & S St NW      W22336   \n",
       "4                              Columbia Pike & S Taylor St       70004   \n",
       "...                                                    ...         ...   \n",
       "3398412                             Crystal Dr & 27th St S      W21285   \n",
       "3398413                                      8th & O St NW      W24197   \n",
       "3398414                    Mount Vernon Ave & E Nelson Ave      W21281   \n",
       "3398415                              17th & Corcoran St NW      W00534   \n",
       "3398416                                     15th & K St NW      W22782   \n",
       "\n",
       "        Member type  ...  SNOW SNWD   TAVG bad_weather  Friday  Saturday  \\\n",
       "0            Member  ...   0.0  0.0  12.50         2.0       0         0   \n",
       "1            Casual  ...   0.0  0.0  12.50         2.0       0         0   \n",
       "2            Casual  ...   0.0  0.0  12.50         2.0       0         0   \n",
       "3            Member  ...   0.0  0.0  12.50         2.0       0         0   \n",
       "4            Member  ...   0.0  0.0  12.50         2.0       0         0   \n",
       "...             ...  ...   ...  ...    ...         ...     ...       ...   \n",
       "3398412      Member  ...   0.0  0.0   8.06         1.0       0         0   \n",
       "3398413      Member  ...   0.0  0.0   8.06         1.0       0         0   \n",
       "3398414      Member  ...   0.0  0.0   8.06         1.0       0         0   \n",
       "3398415      Member  ...   0.0  0.0   8.06         1.0       0         0   \n",
       "3398416      Member  ...   0.0  0.0   8.06         1.0       0         0   \n",
       "\n",
       "         Sunday  Thursday  Tuesday  Wednesday  \n",
       "0             0         0        1          0  \n",
       "1             0         0        1          0  \n",
       "2             0         0        1          0  \n",
       "3             0         0        1          0  \n",
       "4             0         0        1          0  \n",
       "...         ...       ...      ...        ...  \n",
       "3398412       0         0        1          0  \n",
       "3398413       0         0        1          0  \n",
       "3398414       0         0        1          0  \n",
       "3398415       0         0        1          0  \n",
       "3398416       0         0        1          0  \n",
       "\n",
       "[3398417 rows x 26 columns]"
      ]
     },
     "execution_count": 10,
     "metadata": {},
     "output_type": "execute_result"
    }
   ],
   "source": [
    "df_dummies"
   ]
  },
  {
   "cell_type": "code",
   "execution_count": null,
   "metadata": {},
   "outputs": [],
   "source": [
    "# encode dummies for hour (rush, night, day)"
   ]
  },
  {
   "cell_type": "code",
   "execution_count": null,
   "metadata": {},
   "outputs": [],
   "source": [
    "hour_dummies = pd.get_dummies(df['hour_binned'])\n",
    "hour_dummies"
   ]
  },
  {
   "cell_type": "code",
   "execution_count": null,
   "metadata": {},
   "outputs": [],
   "source": [
    "# only add two to df\n",
    "df['night_dum'] = hour_dummies['night']\n",
    "df['rush_dum'] = hour_dummies['rush']"
   ]
  },
  {
   "cell_type": "code",
   "execution_count": null,
   "metadata": {},
   "outputs": [],
   "source": []
  },
  {
   "cell_type": "code",
   "execution_count": null,
   "metadata": {},
   "outputs": [],
   "source": [
    "# Polynomial Feature"
   ]
  },
  {
   "cell_type": "code",
   "execution_count": null,
   "metadata": {},
   "outputs": [],
   "source": [
    "poly = PolynomialFeatures(degree=2)\n",
    "x_poly = poly.fit_transform(df[['month']])\n",
    "df_poly = pd.DataFrame(x_poly)"
   ]
  },
  {
   "cell_type": "code",
   "execution_count": null,
   "metadata": {},
   "outputs": [],
   "source": [
    "# Normalize\n",
    "Scale = MinMaxScaler()\n",
    "month_scaled = Scale.fit_transform(df_poly[[1]])\n",
    "\n",
    "month_scaled1 = Scale.fit_transform(df_poly[[2]])"
   ]
  },
  {
   "cell_type": "code",
   "execution_count": null,
   "metadata": {},
   "outputs": [],
   "source": [
    "df['months_1'] = month_scaled\n",
    "df['months_2'] = month_scaled1"
   ]
  },
  {
   "cell_type": "code",
   "execution_count": null,
   "metadata": {},
   "outputs": [],
   "source": [
    "# Linear Regression on x_poly:\n",
    "model = LinearRegression().fit(x_poly, df['count'])\n",
    "ypred = model.predict(x_poly)\n",
    "\n",
    "sns.barplot(df['month'], df['count'])\n",
    "sns.lineplot(df['month'], ypred)"
   ]
  },
  {
   "cell_type": "code",
   "execution_count": null,
   "metadata": {},
   "outputs": [],
   "source": []
  },
  {
   "cell_type": "code",
   "execution_count": null,
   "metadata": {},
   "outputs": [],
   "source": []
  },
  {
   "cell_type": "code",
   "execution_count": null,
   "metadata": {},
   "outputs": [],
   "source": []
  },
  {
   "cell_type": "code",
   "execution_count": null,
   "metadata": {},
   "outputs": [],
   "source": [
    "# Models"
   ]
  },
  {
   "cell_type": "code",
   "execution_count": null,
   "metadata": {},
   "outputs": [],
   "source": [
    "corr_values = df.corr()\n",
    "type(corr_values)\n",
    "fig1, ax = plt.subplots(figsize=(14,10))\n",
    "sns.heatmap(corr_values)"
   ]
  },
  {
   "cell_type": "code",
   "execution_count": null,
   "metadata": {},
   "outputs": [],
   "source": [
    "# Linear Regression with Regularization"
   ]
  },
  {
   "cell_type": "code",
   "execution_count": null,
   "metadata": {},
   "outputs": [],
   "source": [
    "from sklearn.linear_model import Ridge"
   ]
  },
  {
   "cell_type": "code",
   "execution_count": null,
   "metadata": {},
   "outputs": [],
   "source": [
    "#fit model with: np.log1p  (Log(count + 1))  so we fix that e is correlated with x. np.log1p(y_df)  \n",
    "#Like this, we can also use MSE\n",
    "#But: we loose interpretability of coefficients"
   ]
  },
  {
   "cell_type": "code",
   "execution_count": null,
   "metadata": {},
   "outputs": [],
   "source": [
    "m = Ridge(alpha=0.001)  # different alphas(=regularization strength) don't change anything -> underfitting?\n",
    "m.fit(Xtrain, ytrain)  \n",
    "m.score(Xtrain, ytrain)"
   ]
  },
  {
   "cell_type": "code",
   "execution_count": null,
   "metadata": {},
   "outputs": [],
   "source": [
    "ypred = m.predict(Xtrain) \n",
    "ypred"
   ]
  },
  {
   "cell_type": "code",
   "execution_count": null,
   "metadata": {},
   "outputs": [],
   "source": [
    "ypred_zeros = np.where(ypred <= 0, 0, ypred)\n",
    "ypred_zeros"
   ]
  },
  {
   "cell_type": "code",
   "execution_count": null,
   "metadata": {},
   "outputs": [],
   "source": [
    "mean_squared_error(ytrain, ypred)"
   ]
  },
  {
   "cell_type": "code",
   "execution_count": null,
   "metadata": {},
   "outputs": [],
   "source": [
    "mean_squared_error(ytrain, ypred_zeros)"
   ]
  },
  {
   "cell_type": "code",
   "execution_count": null,
   "metadata": {},
   "outputs": [],
   "source": [
    "fig, axs = plt.subplots(2, 2)\n",
    "\n",
    "# using tuple unpacking for multiple Axes\n",
    "fig, (ax1, ax2) = plt.subplot(1, 2)\n",
    "fig, ((ax1, ax2), (ax3, ax4)) = plt.subplot(2, 2)"
   ]
  },
  {
   "cell_type": "code",
   "execution_count": null,
   "metadata": {},
   "outputs": [],
   "source": [
    "plt.scatter(ytrain, ypred)\n",
    "\n",
    "plt.scatter(ytrain, ypred_zeros, alpha=0.2)\n"
   ]
  },
  {
   "cell_type": "code",
   "execution_count": null,
   "metadata": {},
   "outputs": [],
   "source": [
    "m.coef_  # only when we don't train with log"
   ]
  },
  {
   "cell_type": "markdown",
   "metadata": {},
   "source": [
    "###  TEST"
   ]
  },
  {
   "cell_type": "code",
   "execution_count": null,
   "metadata": {},
   "outputs": [],
   "source": [
    "#  make pipeline for feature engineering"
   ]
  },
  {
   "cell_type": "code",
   "execution_count": null,
   "metadata": {},
   "outputs": [],
   "source": []
  },
  {
   "cell_type": "markdown",
   "metadata": {},
   "source": [
    "## Random Forest"
   ]
  },
  {
   "cell_type": "code",
   "execution_count": null,
   "metadata": {},
   "outputs": [],
   "source": [
    "from sklearn.ensemble import RandomForestRegressor"
   ]
  },
  {
   "cell_type": "code",
   "execution_count": null,
   "metadata": {},
   "outputs": [],
   "source": [
    "rf = RandomForestRegressor(max_depth=7)"
   ]
  },
  {
   "cell_type": "code",
   "execution_count": null,
   "metadata": {},
   "outputs": [],
   "source": [
    "rf.fit(Xtrain, ytrain)  \n",
    "rf.score(Xtrain, ytrain.values.ravel())"
   ]
  },
  {
   "cell_type": "code",
   "execution_count": null,
   "metadata": {},
   "outputs": [],
   "source": [
    "## Hyperparameter Optimization"
   ]
  },
  {
   "cell_type": "code",
   "execution_count": null,
   "metadata": {},
   "outputs": [],
   "source": [
    "#split train/test set\n",
    "from sklearn.model_selection import train_test_split"
   ]
  },
  {
   "cell_type": "code",
   "execution_count": null,
   "metadata": {},
   "outputs": [],
   "source": [
    "Xtrain_forest, Xtest_forest, ytrain_forest, ytest_forest = train_test_split(Xtrain, ytrain, test_size=0.3, random_state=42)\n",
    "Xtrain_forest.shape, ytrain_forest.shape"
   ]
  },
  {
   "cell_type": "code",
   "execution_count": null,
   "metadata": {},
   "outputs": [],
   "source": [
    "from sklearn.model_selection import GridSearchCV"
   ]
  },
  {
   "cell_type": "code",
   "execution_count": null,
   "metadata": {},
   "outputs": [],
   "source": [
    "param_grid = {\n",
    "    'max_depth': [6, 8, 16],\n",
    "    'n_estimators': [10, 100, 200]\n",
    "}\n",
    "param_grid"
   ]
  },
  {
   "cell_type": "code",
   "execution_count": null,
   "metadata": {},
   "outputs": [],
   "source": [
    "cv = GridSearchCV(rf, param_grid, \n",
    "                  return_train_score=True,\n",
    "                  cv=2, n_jobs=4)\n",
    "\n",
    "forest=cv.fit(Xtrain_forest, ytrain_forest)\n",
    "\n",
    "ypred_forest=forest.predict(Xtest_forest)\n",
    "forest.score(Xtest_forest,ytest_forest)"
   ]
  },
  {
   "cell_type": "code",
   "execution_count": null,
   "metadata": {},
   "outputs": [],
   "source": [
    "cv.best_estimator_"
   ]
  },
  {
   "cell_type": "code",
   "execution_count": null,
   "metadata": {},
   "outputs": [],
   "source": []
  },
  {
   "cell_type": "markdown",
   "metadata": {},
   "source": [
    "## Gradient DEscent"
   ]
  },
  {
   "cell_type": "code",
   "execution_count": null,
   "metadata": {},
   "outputs": [],
   "source": [
    "temp = df[['temp_scaled', 'count']]\n",
    "\n",
    "# Building the model\n",
    "a = 100\n",
    "b = 200\n",
    "\n",
    "learning_rate = 0.01\n",
    "max_iterations = 15000  \n",
    "threshold = 0.01\n",
    "\n",
    "n = temp['count'].count()"
   ]
  },
  {
   "cell_type": "code",
   "execution_count": null,
   "metadata": {},
   "outputs": [],
   "source": [
    "# applying Gradient Descent \n",
    "for i in range(max_iterations): \n",
    "    temp['count_pred'] = temp['temp_scaled']*b + a    # temp_scaled = xtrain, count_pred = ypred\n",
    "    derivative_a = (-2/n) * sum(temp['count'] - temp['count_pred'])  # derivative of loss function\n",
    "    derivative_b = (-2/n) * sum((temp['count'] - temp['count_pred'])*temp['temp_scaled'])\n",
    "    mse = 1/n*sum((temp['count'] - temp['count_pred'])**2)\n",
    "    grad_norm = np.sqrt(derivative_a**2 + derivative_b**2)   #???\n",
    "    if grad_norm <= threshold:\n",
    "        print (a, b, mse, 'threshold reached')\n",
    "        break\n",
    "      \n",
    "    a = a - learning_rate * derivative_a  # Update a\n",
    "    b = b - learning_rate * derivative_b  # Update b\n",
    "    \n",
    "    if i % 100 == 0:\n",
    "        print (i, a, b, mse, grad_norm)"
   ]
  },
  {
   "cell_type": "code",
   "execution_count": null,
   "metadata": {},
   "outputs": [],
   "source": [
    "derivative_a"
   ]
  }
 ],
 "metadata": {
  "kernelspec": {
   "display_name": "Python 3",
   "language": "python",
   "name": "python3"
  },
  "language_info": {
   "codemirror_mode": {
    "name": "ipython",
    "version": 3
   },
   "file_extension": ".py",
   "mimetype": "text/x-python",
   "name": "python",
   "nbconvert_exporter": "python",
   "pygments_lexer": "ipython3",
   "version": "3.6.10"
  }
 },
 "nbformat": 4,
 "nbformat_minor": 4
}
