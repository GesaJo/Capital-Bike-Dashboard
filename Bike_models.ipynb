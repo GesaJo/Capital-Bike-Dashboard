{
 "cells": [
  {
   "cell_type": "code",
   "execution_count": 104,
   "metadata": {},
   "outputs": [],
   "source": [
    "import pandas as pd\n",
    "from sklearn.preprocessing import PolynomialFeatures, StandardScaler\n",
    "from sklearn.model_selection import train_test_split\n",
    "from pandas.tseries.holiday import USFederalHolidayCalendar as calendar"
   ]
  },
  {
   "cell_type": "code",
   "execution_count": 2,
   "metadata": {},
   "outputs": [],
   "source": [
    "import matplotlib.pyplot as plt\n",
    "import seaborn as sns"
   ]
  },
  {
   "cell_type": "code",
   "execution_count": 3,
   "metadata": {},
   "outputs": [],
   "source": [
    "df = pd.read_csv(\"data/df_main.csv\")"
   ]
  },
  {
   "cell_type": "markdown",
   "metadata": {},
   "source": [
    "## Prepare data"
   ]
  },
  {
   "cell_type": "code",
   "execution_count": 4,
   "metadata": {},
   "outputs": [],
   "source": [
    "df_day = df.groupby([\"day\", \"weekday\",\"month\", \"TAVG\" ]).count().reset_index()\n",
    "df_day = df_day[[\"day\", \"weekday\", \"month\", \"TAVG\", \"Duration\"]]\n",
    "df_day = df_day.rename(columns={\"Duration\": \"count\"})"
   ]
  },
  {
   "cell_type": "markdown",
   "metadata": {},
   "source": [
    "### Train-test-split"
   ]
  },
  {
   "cell_type": "code",
   "execution_count": 128,
   "metadata": {},
   "outputs": [],
   "source": [
    "X_t, X_test, y_t, y_test = train_test_split(df_day.iloc[:,:-1], df_day.iloc[:,-1], test_size=0.33, random_state=42)"
   ]
  },
  {
   "cell_type": "code",
   "execution_count": 116,
   "metadata": {},
   "outputs": [
    {
     "data": {
      "text/plain": [
       "((244, 4), (121, 4), (244,), (121,))"
      ]
     },
     "execution_count": 116,
     "metadata": {},
     "output_type": "execute_result"
    }
   ],
   "source": [
    "#check:\n",
    "X_t.shape, X_test.shape, y_t.shape, y_test.shape"
   ]
  },
  {
   "cell_type": "code",
   "execution_count": null,
   "metadata": {},
   "outputs": [],
   "source": []
  },
  {
   "cell_type": "markdown",
   "metadata": {},
   "source": [
    "### Feature Engineering"
   ]
  },
  {
   "cell_type": "code",
   "execution_count": 126,
   "metadata": {},
   "outputs": [],
   "source": [
    "def feature_engineering(data):\n",
    "    \n",
    "    data_w = encode_weekends(data)\n",
    "    data_h = encode_holidays(data_w)\n",
    "    data_d = dummies_weekdays(data_h)\n",
    "    data_p = polynomial_interaction(data_d)\n",
    "    data_n = scaling_s(data_p)   # gets worse with scaling??\n",
    "    \n",
    "    return data_n"
   ]
  },
  {
   "cell_type": "code",
   "execution_count": 118,
   "metadata": {},
   "outputs": [],
   "source": [
    "def encode_weekends(X_train):\n",
    "    X_train.loc[(X_train[\"weekday\"] == \"Saturday\") | (X_train[\"weekday\"] == \"Sunday\"), \"weekend\"] = 1\n",
    "    X_train[\"weekend\"] = X_train[\"weekend\"].fillna(0)\n",
    "    return X_train"
   ]
  },
  {
   "cell_type": "code",
   "execution_count": 119,
   "metadata": {},
   "outputs": [],
   "source": [
    "def encode_holidays(X_train):\n",
    "    cal = calendar()\n",
    "    holidays = list(cal.holidays(start=df_day[\"day\"].min(), end=df_day[\"day\"].max()))\n",
    "    holidays = [str(x.date()) for x in holidays]\n",
    "    X_train.loc[(df_day[\"day\"].isin(holidays)), \"holiday\"] = 1\n",
    "    X_train[\"holiday\"] = X_train[\"holiday\"].fillna(0)\n",
    "    X_train.set_index(\"day\", inplace=True)\n",
    "    return X_train    "
   ]
  },
  {
   "cell_type": "code",
   "execution_count": 120,
   "metadata": {},
   "outputs": [],
   "source": [
    "def dummies_weekdays(X_train):\n",
    "    dummies = pd.get_dummies(X_train['weekday'])\n",
    "    X_train = pd.concat([X_train, dummies.set_index(X_train.index)], axis=1) \n",
    "    X_train.drop([\"Monday\", \"weekday\"], axis=1, inplace=True)\n",
    "    return X_train"
   ]
  },
  {
   "cell_type": "code",
   "execution_count": 121,
   "metadata": {},
   "outputs": [],
   "source": [
    "def polynomial_interaction(X_train):\n",
    "    poly = PolynomialFeatures(degree=2)\n",
    "    x_poly = poly.fit_transform(X_train[[\"month\", \"TAVG\"]])\n",
    "    c_names = poly.get_feature_names()\n",
    "    df_poly = pd.DataFrame(x_poly, columns= c_names)\n",
    "    X_train = X_train.reset_index()\n",
    "    X_train = pd.concat([X_train, df_poly], axis=1)\n",
    "    return X_train"
   ]
  },
  {
   "cell_type": "code",
   "execution_count": 122,
   "metadata": {},
   "outputs": [],
   "source": [
    "def scaling_s(X_train):\n",
    "    Scale = StandardScaler()\n",
    "    scaled = Scale.fit_transform(X_train[[\"month\", \"TAVG\", \"x0\", \"x1\", \"x0^2\", \"x0 x1\", \"x1^2\"]])\n",
    "    scaled = pd.DataFrame(scaled, columns=[\"month\", \"TAVG\", \"x0\", \"x1\", \"x0^2\", \"x0 x1\", \"x1^2\"])\n",
    "    X_train = X_train.drop([\"month\", \"TAVG\", \"x0\", \"x1\", \"x0^2\", \"x0 x1\", \"x1^2\"], axis=1)\n",
    "    X_train = pd.concat([X_train, scaled], axis=1)\n",
    "    X_train = X_train.set_index(\"day\")\n",
    "    return X_train"
   ]
  },
  {
   "cell_type": "code",
   "execution_count": 129,
   "metadata": {},
   "outputs": [],
   "source": [
    "X = feature_engineering(X_t)"
   ]
  },
  {
   "cell_type": "code",
   "execution_count": 94,
   "metadata": {},
   "outputs": [],
   "source": [
    "#X.set_index(\"day\", inplace=True)"
   ]
  },
  {
   "cell_type": "markdown",
   "metadata": {},
   "source": [
    "## Models"
   ]
  },
  {
   "cell_type": "markdown",
   "metadata": {},
   "source": [
    "## KNN-Regressor"
   ]
  },
  {
   "cell_type": "code",
   "execution_count": null,
   "metadata": {},
   "outputs": [],
   "source": []
  },
  {
   "cell_type": "code",
   "execution_count": null,
   "metadata": {},
   "outputs": [],
   "source": []
  },
  {
   "cell_type": "markdown",
   "metadata": {},
   "source": [
    "### Linear Regression with Regularization"
   ]
  },
  {
   "cell_type": "code",
   "execution_count": 109,
   "metadata": {},
   "outputs": [],
   "source": [
    "from sklearn.linear_model import Ridge\n",
    "from sklearn.metrics import mean_squared_error"
   ]
  },
  {
   "cell_type": "code",
   "execution_count": 131,
   "metadata": {},
   "outputs": [
    {
     "data": {
      "text/plain": [
       "0.7304403228418743"
      ]
     },
     "execution_count": 131,
     "metadata": {},
     "output_type": "execute_result"
    }
   ],
   "source": [
    "m = Ridge(alpha=0.01) \n",
    "m.fit(X, y_train)  \n",
    "# training accuracy\n",
    "m.score(X, y_train)"
   ]
  },
  {
   "cell_type": "code",
   "execution_count": 96,
   "metadata": {},
   "outputs": [
    {
     "data": {
      "text/plain": [
       "3080273.4895620258"
      ]
     },
     "execution_count": 96,
     "metadata": {},
     "output_type": "execute_result"
    }
   ],
   "source": [
    "ypred = m.predict(X) \n",
    "mean_squared_error(y_train, ypred)"
   ]
  },
  {
   "cell_type": "code",
   "execution_count": null,
   "metadata": {},
   "outputs": [],
   "source": [
    "# Hyperparameter optimization"
   ]
  },
  {
   "cell_type": "markdown",
   "metadata": {},
   "source": [
    "###  TEST"
   ]
  },
  {
   "cell_type": "code",
   "execution_count": 132,
   "metadata": {},
   "outputs": [],
   "source": [
    "x_test = feature_engineering(X_test)"
   ]
  },
  {
   "cell_type": "code",
   "execution_count": 99,
   "metadata": {},
   "outputs": [],
   "source": [
    "#x_test.set_index(\"day\", inplace=True)"
   ]
  },
  {
   "cell_type": "code",
   "execution_count": 133,
   "metadata": {},
   "outputs": [
    {
     "data": {
      "text/plain": [
       "0.597818191409438"
      ]
     },
     "execution_count": 133,
     "metadata": {},
     "output_type": "execute_result"
    }
   ],
   "source": [
    "# test-accuracy\n",
    "m.score(x_test, y_test)"
   ]
  },
  {
   "cell_type": "markdown",
   "metadata": {},
   "source": [
    "## Random Forest"
   ]
  },
  {
   "cell_type": "code",
   "execution_count": 67,
   "metadata": {},
   "outputs": [],
   "source": [
    "from sklearn.ensemble import RandomForestRegressor"
   ]
  },
  {
   "cell_type": "code",
   "execution_count": 101,
   "metadata": {},
   "outputs": [],
   "source": [
    "rf = RandomForestRegressor(max_depth=5)"
   ]
  },
  {
   "cell_type": "code",
   "execution_count": 134,
   "metadata": {},
   "outputs": [
    {
     "data": {
      "text/plain": [
       "0.8538172983162207"
      ]
     },
     "execution_count": 134,
     "metadata": {},
     "output_type": "execute_result"
    }
   ],
   "source": [
    "rf.fit(X, y_train)  \n",
    "# training accuracy:\n",
    "rf.score(X, y_train.values.ravel())"
   ]
  },
  {
   "cell_type": "code",
   "execution_count": 135,
   "metadata": {},
   "outputs": [
    {
     "data": {
      "text/plain": [
       "0.6077591994535917"
      ]
     },
     "execution_count": 135,
     "metadata": {},
     "output_type": "execute_result"
    }
   ],
   "source": [
    "#test accuracy\n",
    "rf.score(x_test, y_test)"
   ]
  },
  {
   "cell_type": "code",
   "execution_count": null,
   "metadata": {},
   "outputs": [],
   "source": []
  },
  {
   "cell_type": "code",
   "execution_count": null,
   "metadata": {},
   "outputs": [],
   "source": []
  },
  {
   "cell_type": "code",
   "execution_count": null,
   "metadata": {},
   "outputs": [],
   "source": [
    "## Hyperparameter Optimization"
   ]
  },
  {
   "cell_type": "code",
   "execution_count": null,
   "metadata": {},
   "outputs": [],
   "source": [
    "#split train/test set\n",
    "from sklearn.model_selection import train_test_split"
   ]
  },
  {
   "cell_type": "code",
   "execution_count": null,
   "metadata": {},
   "outputs": [],
   "source": [
    "Xtrain_forest, Xtest_forest, ytrain_forest, ytest_forest = train_test_split(Xtrain, ytrain, test_size=0.3, random_state=42)\n",
    "Xtrain_forest.shape, ytrain_forest.shape"
   ]
  },
  {
   "cell_type": "code",
   "execution_count": null,
   "metadata": {},
   "outputs": [],
   "source": [
    "from sklearn.model_selection import GridSearchCV"
   ]
  },
  {
   "cell_type": "code",
   "execution_count": null,
   "metadata": {},
   "outputs": [],
   "source": [
    "param_grid = {\n",
    "    'max_depth': [6, 8, 16],\n",
    "    'n_estimators': [10, 100, 200]\n",
    "}\n",
    "param_grid"
   ]
  },
  {
   "cell_type": "code",
   "execution_count": null,
   "metadata": {},
   "outputs": [],
   "source": [
    "cv = GridSearchCV(rf, param_grid, \n",
    "                  return_train_score=True,\n",
    "                  cv=2, n_jobs=4)\n",
    "\n",
    "forest=cv.fit(Xtrain_forest, ytrain_forest)\n",
    "\n",
    "ypred_forest=forest.predict(Xtest_forest)\n",
    "forest.score(Xtest_forest,ytest_forest)"
   ]
  },
  {
   "cell_type": "code",
   "execution_count": null,
   "metadata": {},
   "outputs": [],
   "source": [
    "cv.best_estimator_"
   ]
  },
  {
   "cell_type": "code",
   "execution_count": null,
   "metadata": {},
   "outputs": [],
   "source": []
  },
  {
   "cell_type": "code",
   "execution_count": null,
   "metadata": {},
   "outputs": [],
   "source": []
  },
  {
   "cell_type": "code",
   "execution_count": null,
   "metadata": {},
   "outputs": [],
   "source": []
  },
  {
   "cell_type": "code",
   "execution_count": null,
   "metadata": {},
   "outputs": [],
   "source": []
  },
  {
   "cell_type": "markdown",
   "metadata": {},
   "source": [
    "## Gradient Descent"
   ]
  },
  {
   "cell_type": "code",
   "execution_count": null,
   "metadata": {},
   "outputs": [],
   "source": [
    "temp = df[['temp_scaled', 'count']]\n",
    "\n",
    "# Building the model\n",
    "a = 100\n",
    "b = 200\n",
    "\n",
    "learning_rate = 0.01\n",
    "max_iterations = 15000  \n",
    "threshold = 0.01\n",
    "\n",
    "n = temp['count'].count()"
   ]
  },
  {
   "cell_type": "code",
   "execution_count": null,
   "metadata": {},
   "outputs": [],
   "source": [
    "# applying Gradient Descent \n",
    "for i in range(max_iterations): \n",
    "    temp['count_pred'] = temp['temp_scaled']*b + a    # temp_scaled = xtrain, count_pred = ypred\n",
    "    derivative_a = (-2/n) * sum(temp['count'] - temp['count_pred'])  # derivative of loss function\n",
    "    derivative_b = (-2/n) * sum((temp['count'] - temp['count_pred'])*temp['temp_scaled'])\n",
    "    mse = 1/n*sum((temp['count'] - temp['count_pred'])**2)\n",
    "    grad_norm = np.sqrt(derivative_a**2 + derivative_b**2)   #???\n",
    "    if grad_norm <= threshold:\n",
    "        print (a, b, mse, 'threshold reached')\n",
    "        break\n",
    "      \n",
    "    a = a - learning_rate * derivative_a  # Update a\n",
    "    b = b - learning_rate * derivative_b  # Update b\n",
    "    \n",
    "    if i % 100 == 0:\n",
    "        print (i, a, b, mse, grad_norm)"
   ]
  },
  {
   "cell_type": "code",
   "execution_count": null,
   "metadata": {},
   "outputs": [],
   "source": [
    "derivative_a"
   ]
  },
  {
   "cell_type": "code",
   "execution_count": null,
   "metadata": {},
   "outputs": [],
   "source": []
  },
  {
   "cell_type": "code",
   "execution_count": null,
   "metadata": {},
   "outputs": [],
   "source": []
  },
  {
   "cell_type": "code",
   "execution_count": null,
   "metadata": {},
   "outputs": [],
   "source": [
    "# After getting good models: retrain them on ALL data! "
   ]
  },
  {
   "cell_type": "code",
   "execution_count": null,
   "metadata": {},
   "outputs": [],
   "source": []
  }
 ],
 "metadata": {
  "kernelspec": {
   "display_name": "Python 3",
   "language": "python",
   "name": "python3"
  },
  "language_info": {
   "codemirror_mode": {
    "name": "ipython",
    "version": 3
   },
   "file_extension": ".py",
   "mimetype": "text/x-python",
   "name": "python",
   "nbconvert_exporter": "python",
   "pygments_lexer": "ipython3",
   "version": "3.6.10"
  }
 },
 "nbformat": 4,
 "nbformat_minor": 4
}
