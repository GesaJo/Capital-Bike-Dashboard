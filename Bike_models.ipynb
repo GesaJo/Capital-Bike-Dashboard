{
 "cells": [
  {
   "cell_type": "code",
   "execution_count": 164,
   "metadata": {},
   "outputs": [],
   "source": [
    "import pandas as pd\n",
    "from sklearn.preprocessing import PolynomialFeatures, MinMaxScaler\n",
    "from sklearn.model_selection import train_test_split\n",
    "from pandas.tseries.holiday import USFederalHolidayCalendar as calendar"
   ]
  },
  {
   "cell_type": "code",
   "execution_count": 205,
   "metadata": {},
   "outputs": [],
   "source": [
    "import matplotlib.pyplot as plt\n",
    "import seaborn as sns"
   ]
  },
  {
   "cell_type": "code",
   "execution_count": 97,
   "metadata": {},
   "outputs": [],
   "source": [
    "df = pd.read_csv(\"data/df_main.csv\")"
   ]
  },
  {
   "cell_type": "markdown",
   "metadata": {},
   "source": [
    "## Prepare data"
   ]
  },
  {
   "cell_type": "code",
   "execution_count": 98,
   "metadata": {},
   "outputs": [],
   "source": [
    "df_day = df.groupby([\"day\", \"weekday\",\"month\", \"TAVG\" ]).count().reset_index()"
   ]
  },
  {
   "cell_type": "code",
   "execution_count": 99,
   "metadata": {},
   "outputs": [],
   "source": [
    "df_day = df_day[[\"day\", \"weekday\", \"month\", \"TAVG\", \"Duration\"]]"
   ]
  },
  {
   "cell_type": "code",
   "execution_count": 100,
   "metadata": {},
   "outputs": [],
   "source": [
    "df_day = df_day.rename(columns={\"Duration\": \"count\"})"
   ]
  },
  {
   "cell_type": "code",
   "execution_count": 101,
   "metadata": {},
   "outputs": [
    {
     "data": {
      "text/html": [
       "<div>\n",
       "<style scoped>\n",
       "    .dataframe tbody tr th:only-of-type {\n",
       "        vertical-align: middle;\n",
       "    }\n",
       "\n",
       "    .dataframe tbody tr th {\n",
       "        vertical-align: top;\n",
       "    }\n",
       "\n",
       "    .dataframe thead th {\n",
       "        text-align: right;\n",
       "    }\n",
       "</style>\n",
       "<table border=\"1\" class=\"dataframe\">\n",
       "  <thead>\n",
       "    <tr style=\"text-align: right;\">\n",
       "      <th></th>\n",
       "      <th>day</th>\n",
       "      <th>weekday</th>\n",
       "      <th>month</th>\n",
       "      <th>TAVG</th>\n",
       "      <th>count</th>\n",
       "    </tr>\n",
       "  </thead>\n",
       "  <tbody>\n",
       "    <tr>\n",
       "      <th>0</th>\n",
       "      <td>2019-01-01</td>\n",
       "      <td>Tuesday</td>\n",
       "      <td>1</td>\n",
       "      <td>12.50</td>\n",
       "      <td>4540</td>\n",
       "    </tr>\n",
       "    <tr>\n",
       "      <th>1</th>\n",
       "      <td>2019-01-02</td>\n",
       "      <td>Wednesday</td>\n",
       "      <td>1</td>\n",
       "      <td>6.94</td>\n",
       "      <td>6567</td>\n",
       "    </tr>\n",
       "    <tr>\n",
       "      <th>2</th>\n",
       "      <td>2019-01-03</td>\n",
       "      <td>Thursday</td>\n",
       "      <td>1</td>\n",
       "      <td>7.50</td>\n",
       "      <td>7604</td>\n",
       "    </tr>\n",
       "    <tr>\n",
       "      <th>3</th>\n",
       "      <td>2019-01-04</td>\n",
       "      <td>Friday</td>\n",
       "      <td>1</td>\n",
       "      <td>4.17</td>\n",
       "      <td>7362</td>\n",
       "    </tr>\n",
       "    <tr>\n",
       "      <th>4</th>\n",
       "      <td>2019-01-05</td>\n",
       "      <td>Saturday</td>\n",
       "      <td>1</td>\n",
       "      <td>8.33</td>\n",
       "      <td>5106</td>\n",
       "    </tr>\n",
       "    <tr>\n",
       "      <th>...</th>\n",
       "      <td>...</td>\n",
       "      <td>...</td>\n",
       "      <td>...</td>\n",
       "      <td>...</td>\n",
       "      <td>...</td>\n",
       "    </tr>\n",
       "    <tr>\n",
       "      <th>360</th>\n",
       "      <td>2019-12-27</td>\n",
       "      <td>Friday</td>\n",
       "      <td>12</td>\n",
       "      <td>6.94</td>\n",
       "      <td>4916</td>\n",
       "    </tr>\n",
       "    <tr>\n",
       "      <th>361</th>\n",
       "      <td>2019-12-28</td>\n",
       "      <td>Saturday</td>\n",
       "      <td>12</td>\n",
       "      <td>9.17</td>\n",
       "      <td>6282</td>\n",
       "    </tr>\n",
       "    <tr>\n",
       "      <th>362</th>\n",
       "      <td>2019-12-29</td>\n",
       "      <td>Sunday</td>\n",
       "      <td>12</td>\n",
       "      <td>8.89</td>\n",
       "      <td>1409</td>\n",
       "    </tr>\n",
       "    <tr>\n",
       "      <th>363</th>\n",
       "      <td>2019-12-30</td>\n",
       "      <td>Monday</td>\n",
       "      <td>12</td>\n",
       "      <td>11.94</td>\n",
       "      <td>5419</td>\n",
       "    </tr>\n",
       "    <tr>\n",
       "      <th>364</th>\n",
       "      <td>2019-12-31</td>\n",
       "      <td>Tuesday</td>\n",
       "      <td>12</td>\n",
       "      <td>8.06</td>\n",
       "      <td>5746</td>\n",
       "    </tr>\n",
       "  </tbody>\n",
       "</table>\n",
       "<p>365 rows × 5 columns</p>\n",
       "</div>"
      ],
      "text/plain": [
       "            day    weekday  month   TAVG  count\n",
       "0    2019-01-01    Tuesday      1  12.50   4540\n",
       "1    2019-01-02  Wednesday      1   6.94   6567\n",
       "2    2019-01-03   Thursday      1   7.50   7604\n",
       "3    2019-01-04     Friday      1   4.17   7362\n",
       "4    2019-01-05   Saturday      1   8.33   5106\n",
       "..          ...        ...    ...    ...    ...\n",
       "360  2019-12-27     Friday     12   6.94   4916\n",
       "361  2019-12-28   Saturday     12   9.17   6282\n",
       "362  2019-12-29     Sunday     12   8.89   1409\n",
       "363  2019-12-30     Monday     12  11.94   5419\n",
       "364  2019-12-31    Tuesday     12   8.06   5746\n",
       "\n",
       "[365 rows x 5 columns]"
      ]
     },
     "execution_count": 101,
     "metadata": {},
     "output_type": "execute_result"
    }
   ],
   "source": [
    "df_day"
   ]
  },
  {
   "cell_type": "markdown",
   "metadata": {},
   "source": [
    "### Train-test-split"
   ]
  },
  {
   "cell_type": "code",
   "execution_count": 177,
   "metadata": {},
   "outputs": [],
   "source": [
    "X_train, X_test, y_train, y_test = train_test_split(df_day.iloc[:,:-1], df_day.iloc[:,-1], test_size=0.33, random_state=42)"
   ]
  },
  {
   "cell_type": "code",
   "execution_count": 105,
   "metadata": {},
   "outputs": [
    {
     "data": {
      "text/plain": [
       "((244, 4), (121, 4), (244,), (121,))"
      ]
     },
     "execution_count": 105,
     "metadata": {},
     "output_type": "execute_result"
    }
   ],
   "source": [
    "#check:\n",
    "X_train.shape, X_test.shape, y_train.shape, y_test.shape"
   ]
  },
  {
   "cell_type": "code",
   "execution_count": null,
   "metadata": {},
   "outputs": [],
   "source": []
  },
  {
   "cell_type": "markdown",
   "metadata": {},
   "source": [
    "### Feature Engineering"
   ]
  },
  {
   "cell_type": "code",
   "execution_count": 178,
   "metadata": {},
   "outputs": [],
   "source": [
    "#encode weekends\n",
    "X_train.loc[(X_train[\"weekday\"] == \"Saturday\") | (X_train[\"weekday\"] == \"Sunday\"), \"weekend\"] = 1"
   ]
  },
  {
   "cell_type": "code",
   "execution_count": 179,
   "metadata": {},
   "outputs": [],
   "source": [
    "X_train[\"weekend\"] = X_train[\"weekend\"].fillna(0)"
   ]
  },
  {
   "cell_type": "code",
   "execution_count": 180,
   "metadata": {},
   "outputs": [],
   "source": [
    "# encode public holidays"
   ]
  },
  {
   "cell_type": "code",
   "execution_count": 181,
   "metadata": {},
   "outputs": [
    {
     "data": {
      "text/plain": [
       "['2019-01-01',\n",
       " '2019-01-21',\n",
       " '2019-02-18',\n",
       " '2019-05-27',\n",
       " '2019-07-04',\n",
       " '2019-09-02',\n",
       " '2019-10-14',\n",
       " '2019-11-11',\n",
       " '2019-11-28',\n",
       " '2019-12-25']"
      ]
     },
     "execution_count": 181,
     "metadata": {},
     "output_type": "execute_result"
    }
   ],
   "source": [
    "cal = calendar()\n",
    "holidays = list(cal.holidays(start=df_day[\"day\"].min(), end=df_day[\"day\"].max()))\n",
    "holidays = [str(x.date()) for x in holidays]\n",
    "holidays"
   ]
  },
  {
   "cell_type": "code",
   "execution_count": 182,
   "metadata": {
    "scrolled": true
   },
   "outputs": [],
   "source": [
    "X_train.loc[(df_day[\"day\"].isin(holidays)), \"holiday\"] = 1"
   ]
  },
  {
   "cell_type": "code",
   "execution_count": 183,
   "metadata": {},
   "outputs": [],
   "source": [
    "X_train[\"holiday\"] = X_train[\"holiday\"].fillna(0)"
   ]
  },
  {
   "cell_type": "code",
   "execution_count": 184,
   "metadata": {},
   "outputs": [],
   "source": [
    "X_train.set_index(\"day\", inplace=True)"
   ]
  },
  {
   "cell_type": "code",
   "execution_count": 185,
   "metadata": {},
   "outputs": [
    {
     "data": {
      "text/html": [
       "<div>\n",
       "<style scoped>\n",
       "    .dataframe tbody tr th:only-of-type {\n",
       "        vertical-align: middle;\n",
       "    }\n",
       "\n",
       "    .dataframe tbody tr th {\n",
       "        vertical-align: top;\n",
       "    }\n",
       "\n",
       "    .dataframe thead th {\n",
       "        text-align: right;\n",
       "    }\n",
       "</style>\n",
       "<table border=\"1\" class=\"dataframe\">\n",
       "  <thead>\n",
       "    <tr style=\"text-align: right;\">\n",
       "      <th></th>\n",
       "      <th>weekday</th>\n",
       "      <th>month</th>\n",
       "      <th>TAVG</th>\n",
       "      <th>weekend</th>\n",
       "      <th>holiday</th>\n",
       "    </tr>\n",
       "    <tr>\n",
       "      <th>day</th>\n",
       "      <th></th>\n",
       "      <th></th>\n",
       "      <th></th>\n",
       "      <th></th>\n",
       "      <th></th>\n",
       "    </tr>\n",
       "  </thead>\n",
       "  <tbody>\n",
       "    <tr>\n",
       "      <th>2019-04-29</th>\n",
       "      <td>Monday</td>\n",
       "      <td>4</td>\n",
       "      <td>11.11</td>\n",
       "      <td>0.0</td>\n",
       "      <td>0.0</td>\n",
       "    </tr>\n",
       "    <tr>\n",
       "      <th>2019-02-01</th>\n",
       "      <td>Friday</td>\n",
       "      <td>2</td>\n",
       "      <td>-7.22</td>\n",
       "      <td>0.0</td>\n",
       "      <td>0.0</td>\n",
       "    </tr>\n",
       "    <tr>\n",
       "      <th>2019-02-06</th>\n",
       "      <td>Wednesday</td>\n",
       "      <td>2</td>\n",
       "      <td>10.28</td>\n",
       "      <td>0.0</td>\n",
       "      <td>0.0</td>\n",
       "    </tr>\n",
       "    <tr>\n",
       "      <th>2019-10-13</th>\n",
       "      <td>Sunday</td>\n",
       "      <td>10</td>\n",
       "      <td>15.00</td>\n",
       "      <td>1.0</td>\n",
       "      <td>0.0</td>\n",
       "    </tr>\n",
       "    <tr>\n",
       "      <th>2019-07-01</th>\n",
       "      <td>Monday</td>\n",
       "      <td>7</td>\n",
       "      <td>25.56</td>\n",
       "      <td>0.0</td>\n",
       "      <td>0.0</td>\n",
       "    </tr>\n",
       "    <tr>\n",
       "      <th>...</th>\n",
       "      <td>...</td>\n",
       "      <td>...</td>\n",
       "      <td>...</td>\n",
       "      <td>...</td>\n",
       "      <td>...</td>\n",
       "    </tr>\n",
       "    <tr>\n",
       "      <th>2019-03-13</th>\n",
       "      <td>Wednesday</td>\n",
       "      <td>3</td>\n",
       "      <td>6.11</td>\n",
       "      <td>0.0</td>\n",
       "      <td>0.0</td>\n",
       "    </tr>\n",
       "    <tr>\n",
       "      <th>2019-04-17</th>\n",
       "      <td>Wednesday</td>\n",
       "      <td>4</td>\n",
       "      <td>16.94</td>\n",
       "      <td>0.0</td>\n",
       "      <td>0.0</td>\n",
       "    </tr>\n",
       "    <tr>\n",
       "      <th>2019-09-28</th>\n",
       "      <td>Saturday</td>\n",
       "      <td>9</td>\n",
       "      <td>23.06</td>\n",
       "      <td>1.0</td>\n",
       "      <td>0.0</td>\n",
       "    </tr>\n",
       "    <tr>\n",
       "      <th>2019-12-15</th>\n",
       "      <td>Sunday</td>\n",
       "      <td>12</td>\n",
       "      <td>7.50</td>\n",
       "      <td>1.0</td>\n",
       "      <td>0.0</td>\n",
       "    </tr>\n",
       "    <tr>\n",
       "      <th>2019-04-13</th>\n",
       "      <td>Saturday</td>\n",
       "      <td>4</td>\n",
       "      <td>19.44</td>\n",
       "      <td>1.0</td>\n",
       "      <td>0.0</td>\n",
       "    </tr>\n",
       "  </tbody>\n",
       "</table>\n",
       "<p>244 rows × 5 columns</p>\n",
       "</div>"
      ],
      "text/plain": [
       "              weekday  month   TAVG  weekend  holiday\n",
       "day                                                  \n",
       "2019-04-29     Monday      4  11.11      0.0      0.0\n",
       "2019-02-01     Friday      2  -7.22      0.0      0.0\n",
       "2019-02-06  Wednesday      2  10.28      0.0      0.0\n",
       "2019-10-13     Sunday     10  15.00      1.0      0.0\n",
       "2019-07-01     Monday      7  25.56      0.0      0.0\n",
       "...               ...    ...    ...      ...      ...\n",
       "2019-03-13  Wednesday      3   6.11      0.0      0.0\n",
       "2019-04-17  Wednesday      4  16.94      0.0      0.0\n",
       "2019-09-28   Saturday      9  23.06      1.0      0.0\n",
       "2019-12-15     Sunday     12   7.50      1.0      0.0\n",
       "2019-04-13   Saturday      4  19.44      1.0      0.0\n",
       "\n",
       "[244 rows x 5 columns]"
      ]
     },
     "execution_count": 185,
     "metadata": {},
     "output_type": "execute_result"
    }
   ],
   "source": [
    "X_train"
   ]
  },
  {
   "cell_type": "code",
   "execution_count": 186,
   "metadata": {},
   "outputs": [],
   "source": [
    "# encode dummies for weekdays "
   ]
  },
  {
   "cell_type": "code",
   "execution_count": 187,
   "metadata": {},
   "outputs": [],
   "source": [
    "dummies = pd.get_dummies(X_train['weekday'])"
   ]
  },
  {
   "cell_type": "code",
   "execution_count": 188,
   "metadata": {},
   "outputs": [],
   "source": [
    "X_train = pd.concat([X_train, dummies.set_index(X_train.index)], axis=1) "
   ]
  },
  {
   "cell_type": "code",
   "execution_count": 189,
   "metadata": {},
   "outputs": [],
   "source": [
    "X_train.drop([\"Monday\", \"weekday\"], axis=1, inplace=True)"
   ]
  },
  {
   "cell_type": "code",
   "execution_count": 190,
   "metadata": {},
   "outputs": [
    {
     "data": {
      "text/html": [
       "<div>\n",
       "<style scoped>\n",
       "    .dataframe tbody tr th:only-of-type {\n",
       "        vertical-align: middle;\n",
       "    }\n",
       "\n",
       "    .dataframe tbody tr th {\n",
       "        vertical-align: top;\n",
       "    }\n",
       "\n",
       "    .dataframe thead th {\n",
       "        text-align: right;\n",
       "    }\n",
       "</style>\n",
       "<table border=\"1\" class=\"dataframe\">\n",
       "  <thead>\n",
       "    <tr style=\"text-align: right;\">\n",
       "      <th></th>\n",
       "      <th>month</th>\n",
       "      <th>TAVG</th>\n",
       "      <th>weekend</th>\n",
       "      <th>holiday</th>\n",
       "      <th>Friday</th>\n",
       "      <th>Saturday</th>\n",
       "      <th>Sunday</th>\n",
       "      <th>Thursday</th>\n",
       "      <th>Tuesday</th>\n",
       "      <th>Wednesday</th>\n",
       "    </tr>\n",
       "    <tr>\n",
       "      <th>day</th>\n",
       "      <th></th>\n",
       "      <th></th>\n",
       "      <th></th>\n",
       "      <th></th>\n",
       "      <th></th>\n",
       "      <th></th>\n",
       "      <th></th>\n",
       "      <th></th>\n",
       "      <th></th>\n",
       "      <th></th>\n",
       "    </tr>\n",
       "  </thead>\n",
       "  <tbody>\n",
       "    <tr>\n",
       "      <th>2019-04-29</th>\n",
       "      <td>4</td>\n",
       "      <td>11.11</td>\n",
       "      <td>0.0</td>\n",
       "      <td>0.0</td>\n",
       "      <td>0</td>\n",
       "      <td>0</td>\n",
       "      <td>0</td>\n",
       "      <td>0</td>\n",
       "      <td>0</td>\n",
       "      <td>0</td>\n",
       "    </tr>\n",
       "    <tr>\n",
       "      <th>2019-02-01</th>\n",
       "      <td>2</td>\n",
       "      <td>-7.22</td>\n",
       "      <td>0.0</td>\n",
       "      <td>0.0</td>\n",
       "      <td>1</td>\n",
       "      <td>0</td>\n",
       "      <td>0</td>\n",
       "      <td>0</td>\n",
       "      <td>0</td>\n",
       "      <td>0</td>\n",
       "    </tr>\n",
       "    <tr>\n",
       "      <th>2019-02-06</th>\n",
       "      <td>2</td>\n",
       "      <td>10.28</td>\n",
       "      <td>0.0</td>\n",
       "      <td>0.0</td>\n",
       "      <td>0</td>\n",
       "      <td>0</td>\n",
       "      <td>0</td>\n",
       "      <td>0</td>\n",
       "      <td>0</td>\n",
       "      <td>1</td>\n",
       "    </tr>\n",
       "    <tr>\n",
       "      <th>2019-10-13</th>\n",
       "      <td>10</td>\n",
       "      <td>15.00</td>\n",
       "      <td>1.0</td>\n",
       "      <td>0.0</td>\n",
       "      <td>0</td>\n",
       "      <td>0</td>\n",
       "      <td>1</td>\n",
       "      <td>0</td>\n",
       "      <td>0</td>\n",
       "      <td>0</td>\n",
       "    </tr>\n",
       "    <tr>\n",
       "      <th>2019-07-01</th>\n",
       "      <td>7</td>\n",
       "      <td>25.56</td>\n",
       "      <td>0.0</td>\n",
       "      <td>0.0</td>\n",
       "      <td>0</td>\n",
       "      <td>0</td>\n",
       "      <td>0</td>\n",
       "      <td>0</td>\n",
       "      <td>0</td>\n",
       "      <td>0</td>\n",
       "    </tr>\n",
       "    <tr>\n",
       "      <th>...</th>\n",
       "      <td>...</td>\n",
       "      <td>...</td>\n",
       "      <td>...</td>\n",
       "      <td>...</td>\n",
       "      <td>...</td>\n",
       "      <td>...</td>\n",
       "      <td>...</td>\n",
       "      <td>...</td>\n",
       "      <td>...</td>\n",
       "      <td>...</td>\n",
       "    </tr>\n",
       "    <tr>\n",
       "      <th>2019-03-13</th>\n",
       "      <td>3</td>\n",
       "      <td>6.11</td>\n",
       "      <td>0.0</td>\n",
       "      <td>0.0</td>\n",
       "      <td>0</td>\n",
       "      <td>0</td>\n",
       "      <td>0</td>\n",
       "      <td>0</td>\n",
       "      <td>0</td>\n",
       "      <td>1</td>\n",
       "    </tr>\n",
       "    <tr>\n",
       "      <th>2019-04-17</th>\n",
       "      <td>4</td>\n",
       "      <td>16.94</td>\n",
       "      <td>0.0</td>\n",
       "      <td>0.0</td>\n",
       "      <td>0</td>\n",
       "      <td>0</td>\n",
       "      <td>0</td>\n",
       "      <td>0</td>\n",
       "      <td>0</td>\n",
       "      <td>1</td>\n",
       "    </tr>\n",
       "    <tr>\n",
       "      <th>2019-09-28</th>\n",
       "      <td>9</td>\n",
       "      <td>23.06</td>\n",
       "      <td>1.0</td>\n",
       "      <td>0.0</td>\n",
       "      <td>0</td>\n",
       "      <td>1</td>\n",
       "      <td>0</td>\n",
       "      <td>0</td>\n",
       "      <td>0</td>\n",
       "      <td>0</td>\n",
       "    </tr>\n",
       "    <tr>\n",
       "      <th>2019-12-15</th>\n",
       "      <td>12</td>\n",
       "      <td>7.50</td>\n",
       "      <td>1.0</td>\n",
       "      <td>0.0</td>\n",
       "      <td>0</td>\n",
       "      <td>0</td>\n",
       "      <td>1</td>\n",
       "      <td>0</td>\n",
       "      <td>0</td>\n",
       "      <td>0</td>\n",
       "    </tr>\n",
       "    <tr>\n",
       "      <th>2019-04-13</th>\n",
       "      <td>4</td>\n",
       "      <td>19.44</td>\n",
       "      <td>1.0</td>\n",
       "      <td>0.0</td>\n",
       "      <td>0</td>\n",
       "      <td>1</td>\n",
       "      <td>0</td>\n",
       "      <td>0</td>\n",
       "      <td>0</td>\n",
       "      <td>0</td>\n",
       "    </tr>\n",
       "  </tbody>\n",
       "</table>\n",
       "<p>244 rows × 10 columns</p>\n",
       "</div>"
      ],
      "text/plain": [
       "            month   TAVG  weekend  holiday  Friday  Saturday  Sunday  \\\n",
       "day                                                                    \n",
       "2019-04-29      4  11.11      0.0      0.0       0         0       0   \n",
       "2019-02-01      2  -7.22      0.0      0.0       1         0       0   \n",
       "2019-02-06      2  10.28      0.0      0.0       0         0       0   \n",
       "2019-10-13     10  15.00      1.0      0.0       0         0       1   \n",
       "2019-07-01      7  25.56      0.0      0.0       0         0       0   \n",
       "...           ...    ...      ...      ...     ...       ...     ...   \n",
       "2019-03-13      3   6.11      0.0      0.0       0         0       0   \n",
       "2019-04-17      4  16.94      0.0      0.0       0         0       0   \n",
       "2019-09-28      9  23.06      1.0      0.0       0         1       0   \n",
       "2019-12-15     12   7.50      1.0      0.0       0         0       1   \n",
       "2019-04-13      4  19.44      1.0      0.0       0         1       0   \n",
       "\n",
       "            Thursday  Tuesday  Wednesday  \n",
       "day                                       \n",
       "2019-04-29         0        0          0  \n",
       "2019-02-01         0        0          0  \n",
       "2019-02-06         0        0          1  \n",
       "2019-10-13         0        0          0  \n",
       "2019-07-01         0        0          0  \n",
       "...              ...      ...        ...  \n",
       "2019-03-13         0        0          1  \n",
       "2019-04-17         0        0          1  \n",
       "2019-09-28         0        0          0  \n",
       "2019-12-15         0        0          0  \n",
       "2019-04-13         0        0          0  \n",
       "\n",
       "[244 rows x 10 columns]"
      ]
     },
     "execution_count": 190,
     "metadata": {},
     "output_type": "execute_result"
    }
   ],
   "source": [
    "X_train"
   ]
  },
  {
   "cell_type": "code",
   "execution_count": null,
   "metadata": {},
   "outputs": [],
   "source": [
    "# Polynomial and interaction Features"
   ]
  },
  {
   "cell_type": "code",
   "execution_count": 191,
   "metadata": {},
   "outputs": [],
   "source": [
    "poly = PolynomialFeatures(degree=2)\n",
    "x_poly = poly.fit_transform(X_train[[\"month\", \"TAVG\"]])\n",
    "c_names = poly.get_feature_names()\n",
    "df_poly = pd.DataFrame(x_poly, columns= c_names)"
   ]
  },
  {
   "cell_type": "code",
   "execution_count": 192,
   "metadata": {},
   "outputs": [],
   "source": [
    "X_train = X_train.reset_index()"
   ]
  },
  {
   "cell_type": "code",
   "execution_count": 193,
   "metadata": {},
   "outputs": [],
   "source": [
    "X_train = pd.concat([X_train, df_poly], axis=1)"
   ]
  },
  {
   "cell_type": "code",
   "execution_count": 194,
   "metadata": {},
   "outputs": [
    {
     "data": {
      "text/html": [
       "<div>\n",
       "<style scoped>\n",
       "    .dataframe tbody tr th:only-of-type {\n",
       "        vertical-align: middle;\n",
       "    }\n",
       "\n",
       "    .dataframe tbody tr th {\n",
       "        vertical-align: top;\n",
       "    }\n",
       "\n",
       "    .dataframe thead th {\n",
       "        text-align: right;\n",
       "    }\n",
       "</style>\n",
       "<table border=\"1\" class=\"dataframe\">\n",
       "  <thead>\n",
       "    <tr style=\"text-align: right;\">\n",
       "      <th></th>\n",
       "      <th>day</th>\n",
       "      <th>month</th>\n",
       "      <th>TAVG</th>\n",
       "      <th>weekend</th>\n",
       "      <th>holiday</th>\n",
       "      <th>Friday</th>\n",
       "      <th>Saturday</th>\n",
       "      <th>Sunday</th>\n",
       "      <th>Thursday</th>\n",
       "      <th>Tuesday</th>\n",
       "      <th>Wednesday</th>\n",
       "      <th>1</th>\n",
       "      <th>x0</th>\n",
       "      <th>x1</th>\n",
       "      <th>x0^2</th>\n",
       "      <th>x0 x1</th>\n",
       "      <th>x1^2</th>\n",
       "    </tr>\n",
       "  </thead>\n",
       "  <tbody>\n",
       "    <tr>\n",
       "      <th>0</th>\n",
       "      <td>2019-04-29</td>\n",
       "      <td>4</td>\n",
       "      <td>11.11</td>\n",
       "      <td>0.0</td>\n",
       "      <td>0.0</td>\n",
       "      <td>0</td>\n",
       "      <td>0</td>\n",
       "      <td>0</td>\n",
       "      <td>0</td>\n",
       "      <td>0</td>\n",
       "      <td>0</td>\n",
       "      <td>1.0</td>\n",
       "      <td>4.0</td>\n",
       "      <td>11.11</td>\n",
       "      <td>16.0</td>\n",
       "      <td>44.44</td>\n",
       "      <td>123.4321</td>\n",
       "    </tr>\n",
       "    <tr>\n",
       "      <th>1</th>\n",
       "      <td>2019-02-01</td>\n",
       "      <td>2</td>\n",
       "      <td>-7.22</td>\n",
       "      <td>0.0</td>\n",
       "      <td>0.0</td>\n",
       "      <td>1</td>\n",
       "      <td>0</td>\n",
       "      <td>0</td>\n",
       "      <td>0</td>\n",
       "      <td>0</td>\n",
       "      <td>0</td>\n",
       "      <td>1.0</td>\n",
       "      <td>2.0</td>\n",
       "      <td>-7.22</td>\n",
       "      <td>4.0</td>\n",
       "      <td>-14.44</td>\n",
       "      <td>52.1284</td>\n",
       "    </tr>\n",
       "    <tr>\n",
       "      <th>2</th>\n",
       "      <td>2019-02-06</td>\n",
       "      <td>2</td>\n",
       "      <td>10.28</td>\n",
       "      <td>0.0</td>\n",
       "      <td>0.0</td>\n",
       "      <td>0</td>\n",
       "      <td>0</td>\n",
       "      <td>0</td>\n",
       "      <td>0</td>\n",
       "      <td>0</td>\n",
       "      <td>1</td>\n",
       "      <td>1.0</td>\n",
       "      <td>2.0</td>\n",
       "      <td>10.28</td>\n",
       "      <td>4.0</td>\n",
       "      <td>20.56</td>\n",
       "      <td>105.6784</td>\n",
       "    </tr>\n",
       "    <tr>\n",
       "      <th>3</th>\n",
       "      <td>2019-10-13</td>\n",
       "      <td>10</td>\n",
       "      <td>15.00</td>\n",
       "      <td>1.0</td>\n",
       "      <td>0.0</td>\n",
       "      <td>0</td>\n",
       "      <td>0</td>\n",
       "      <td>1</td>\n",
       "      <td>0</td>\n",
       "      <td>0</td>\n",
       "      <td>0</td>\n",
       "      <td>1.0</td>\n",
       "      <td>10.0</td>\n",
       "      <td>15.00</td>\n",
       "      <td>100.0</td>\n",
       "      <td>150.00</td>\n",
       "      <td>225.0000</td>\n",
       "    </tr>\n",
       "    <tr>\n",
       "      <th>4</th>\n",
       "      <td>2019-07-01</td>\n",
       "      <td>7</td>\n",
       "      <td>25.56</td>\n",
       "      <td>0.0</td>\n",
       "      <td>0.0</td>\n",
       "      <td>0</td>\n",
       "      <td>0</td>\n",
       "      <td>0</td>\n",
       "      <td>0</td>\n",
       "      <td>0</td>\n",
       "      <td>0</td>\n",
       "      <td>1.0</td>\n",
       "      <td>7.0</td>\n",
       "      <td>25.56</td>\n",
       "      <td>49.0</td>\n",
       "      <td>178.92</td>\n",
       "      <td>653.3136</td>\n",
       "    </tr>\n",
       "    <tr>\n",
       "      <th>...</th>\n",
       "      <td>...</td>\n",
       "      <td>...</td>\n",
       "      <td>...</td>\n",
       "      <td>...</td>\n",
       "      <td>...</td>\n",
       "      <td>...</td>\n",
       "      <td>...</td>\n",
       "      <td>...</td>\n",
       "      <td>...</td>\n",
       "      <td>...</td>\n",
       "      <td>...</td>\n",
       "      <td>...</td>\n",
       "      <td>...</td>\n",
       "      <td>...</td>\n",
       "      <td>...</td>\n",
       "      <td>...</td>\n",
       "      <td>...</td>\n",
       "    </tr>\n",
       "    <tr>\n",
       "      <th>239</th>\n",
       "      <td>2019-03-13</td>\n",
       "      <td>3</td>\n",
       "      <td>6.11</td>\n",
       "      <td>0.0</td>\n",
       "      <td>0.0</td>\n",
       "      <td>0</td>\n",
       "      <td>0</td>\n",
       "      <td>0</td>\n",
       "      <td>0</td>\n",
       "      <td>0</td>\n",
       "      <td>1</td>\n",
       "      <td>1.0</td>\n",
       "      <td>3.0</td>\n",
       "      <td>6.11</td>\n",
       "      <td>9.0</td>\n",
       "      <td>18.33</td>\n",
       "      <td>37.3321</td>\n",
       "    </tr>\n",
       "    <tr>\n",
       "      <th>240</th>\n",
       "      <td>2019-04-17</td>\n",
       "      <td>4</td>\n",
       "      <td>16.94</td>\n",
       "      <td>0.0</td>\n",
       "      <td>0.0</td>\n",
       "      <td>0</td>\n",
       "      <td>0</td>\n",
       "      <td>0</td>\n",
       "      <td>0</td>\n",
       "      <td>0</td>\n",
       "      <td>1</td>\n",
       "      <td>1.0</td>\n",
       "      <td>4.0</td>\n",
       "      <td>16.94</td>\n",
       "      <td>16.0</td>\n",
       "      <td>67.76</td>\n",
       "      <td>286.9636</td>\n",
       "    </tr>\n",
       "    <tr>\n",
       "      <th>241</th>\n",
       "      <td>2019-09-28</td>\n",
       "      <td>9</td>\n",
       "      <td>23.06</td>\n",
       "      <td>1.0</td>\n",
       "      <td>0.0</td>\n",
       "      <td>0</td>\n",
       "      <td>1</td>\n",
       "      <td>0</td>\n",
       "      <td>0</td>\n",
       "      <td>0</td>\n",
       "      <td>0</td>\n",
       "      <td>1.0</td>\n",
       "      <td>9.0</td>\n",
       "      <td>23.06</td>\n",
       "      <td>81.0</td>\n",
       "      <td>207.54</td>\n",
       "      <td>531.7636</td>\n",
       "    </tr>\n",
       "    <tr>\n",
       "      <th>242</th>\n",
       "      <td>2019-12-15</td>\n",
       "      <td>12</td>\n",
       "      <td>7.50</td>\n",
       "      <td>1.0</td>\n",
       "      <td>0.0</td>\n",
       "      <td>0</td>\n",
       "      <td>0</td>\n",
       "      <td>1</td>\n",
       "      <td>0</td>\n",
       "      <td>0</td>\n",
       "      <td>0</td>\n",
       "      <td>1.0</td>\n",
       "      <td>12.0</td>\n",
       "      <td>7.50</td>\n",
       "      <td>144.0</td>\n",
       "      <td>90.00</td>\n",
       "      <td>56.2500</td>\n",
       "    </tr>\n",
       "    <tr>\n",
       "      <th>243</th>\n",
       "      <td>2019-04-13</td>\n",
       "      <td>4</td>\n",
       "      <td>19.44</td>\n",
       "      <td>1.0</td>\n",
       "      <td>0.0</td>\n",
       "      <td>0</td>\n",
       "      <td>1</td>\n",
       "      <td>0</td>\n",
       "      <td>0</td>\n",
       "      <td>0</td>\n",
       "      <td>0</td>\n",
       "      <td>1.0</td>\n",
       "      <td>4.0</td>\n",
       "      <td>19.44</td>\n",
       "      <td>16.0</td>\n",
       "      <td>77.76</td>\n",
       "      <td>377.9136</td>\n",
       "    </tr>\n",
       "  </tbody>\n",
       "</table>\n",
       "<p>244 rows × 17 columns</p>\n",
       "</div>"
      ],
      "text/plain": [
       "            day  month   TAVG  weekend  holiday  Friday  Saturday  Sunday  \\\n",
       "0    2019-04-29      4  11.11      0.0      0.0       0         0       0   \n",
       "1    2019-02-01      2  -7.22      0.0      0.0       1         0       0   \n",
       "2    2019-02-06      2  10.28      0.0      0.0       0         0       0   \n",
       "3    2019-10-13     10  15.00      1.0      0.0       0         0       1   \n",
       "4    2019-07-01      7  25.56      0.0      0.0       0         0       0   \n",
       "..          ...    ...    ...      ...      ...     ...       ...     ...   \n",
       "239  2019-03-13      3   6.11      0.0      0.0       0         0       0   \n",
       "240  2019-04-17      4  16.94      0.0      0.0       0         0       0   \n",
       "241  2019-09-28      9  23.06      1.0      0.0       0         1       0   \n",
       "242  2019-12-15     12   7.50      1.0      0.0       0         0       1   \n",
       "243  2019-04-13      4  19.44      1.0      0.0       0         1       0   \n",
       "\n",
       "     Thursday  Tuesday  Wednesday    1    x0     x1   x0^2   x0 x1      x1^2  \n",
       "0           0        0          0  1.0   4.0  11.11   16.0   44.44  123.4321  \n",
       "1           0        0          0  1.0   2.0  -7.22    4.0  -14.44   52.1284  \n",
       "2           0        0          1  1.0   2.0  10.28    4.0   20.56  105.6784  \n",
       "3           0        0          0  1.0  10.0  15.00  100.0  150.00  225.0000  \n",
       "4           0        0          0  1.0   7.0  25.56   49.0  178.92  653.3136  \n",
       "..        ...      ...        ...  ...   ...    ...    ...     ...       ...  \n",
       "239         0        0          1  1.0   3.0   6.11    9.0   18.33   37.3321  \n",
       "240         0        0          1  1.0   4.0  16.94   16.0   67.76  286.9636  \n",
       "241         0        0          0  1.0   9.0  23.06   81.0  207.54  531.7636  \n",
       "242         0        0          0  1.0  12.0   7.50  144.0   90.00   56.2500  \n",
       "243         0        0          0  1.0   4.0  19.44   16.0   77.76  377.9136  \n",
       "\n",
       "[244 rows x 17 columns]"
      ]
     },
     "execution_count": 194,
     "metadata": {},
     "output_type": "execute_result"
    }
   ],
   "source": [
    "X_train"
   ]
  },
  {
   "cell_type": "code",
   "execution_count": 195,
   "metadata": {},
   "outputs": [],
   "source": [
    "# Normalization\n",
    "Scale = MinMaxScaler()\n",
    "scaled = Scale.fit_transform(X_train[[\"month\", \"TAVG\", \"x0\", \"x1\", \"x0^2\", \"x0 x1\", \"x1^2\"]])"
   ]
  },
  {
   "cell_type": "code",
   "execution_count": 196,
   "metadata": {},
   "outputs": [],
   "source": [
    "scaled = pd.DataFrame(scaled, columns=[\"month\", \"TAVG\", \"x0\", \"x1\", \"x0^2\", \"x0 x1\", \"x1^2\"])"
   ]
  },
  {
   "cell_type": "code",
   "execution_count": 197,
   "metadata": {},
   "outputs": [],
   "source": [
    "X_train = X_train.drop([\"month\", \"TAVG\", \"x0\", \"x1\", \"x0^2\", \"x0 x1\", \"x1^2\"], axis=1)"
   ]
  },
  {
   "cell_type": "code",
   "execution_count": 199,
   "metadata": {},
   "outputs": [],
   "source": [
    "X_train = pd.concat([X_train, scaled], axis=1)"
   ]
  },
  {
   "cell_type": "code",
   "execution_count": 201,
   "metadata": {},
   "outputs": [],
   "source": [
    "X_train = X_train.set_index(\"day\")"
   ]
  },
  {
   "cell_type": "code",
   "execution_count": 202,
   "metadata": {
    "collapsed": true
   },
   "outputs": [
    {
     "data": {
      "text/html": [
       "<div>\n",
       "<style scoped>\n",
       "    .dataframe tbody tr th:only-of-type {\n",
       "        vertical-align: middle;\n",
       "    }\n",
       "\n",
       "    .dataframe tbody tr th {\n",
       "        vertical-align: top;\n",
       "    }\n",
       "\n",
       "    .dataframe thead th {\n",
       "        text-align: right;\n",
       "    }\n",
       "</style>\n",
       "<table border=\"1\" class=\"dataframe\">\n",
       "  <thead>\n",
       "    <tr style=\"text-align: right;\">\n",
       "      <th></th>\n",
       "      <th>weekend</th>\n",
       "      <th>holiday</th>\n",
       "      <th>Friday</th>\n",
       "      <th>Saturday</th>\n",
       "      <th>Sunday</th>\n",
       "      <th>Thursday</th>\n",
       "      <th>Tuesday</th>\n",
       "      <th>Wednesday</th>\n",
       "      <th>1</th>\n",
       "      <th>month</th>\n",
       "      <th>TAVG</th>\n",
       "      <th>x0</th>\n",
       "      <th>x1</th>\n",
       "      <th>x0^2</th>\n",
       "      <th>x0 x1</th>\n",
       "      <th>x1^2</th>\n",
       "    </tr>\n",
       "    <tr>\n",
       "      <th>day</th>\n",
       "      <th></th>\n",
       "      <th></th>\n",
       "      <th></th>\n",
       "      <th></th>\n",
       "      <th></th>\n",
       "      <th></th>\n",
       "      <th></th>\n",
       "      <th></th>\n",
       "      <th></th>\n",
       "      <th></th>\n",
       "      <th></th>\n",
       "      <th></th>\n",
       "      <th></th>\n",
       "      <th></th>\n",
       "      <th></th>\n",
       "      <th></th>\n",
       "    </tr>\n",
       "  </thead>\n",
       "  <tbody>\n",
       "    <tr>\n",
       "      <th>2019-04-29</th>\n",
       "      <td>0.0</td>\n",
       "      <td>0.0</td>\n",
       "      <td>0</td>\n",
       "      <td>0</td>\n",
       "      <td>0</td>\n",
       "      <td>0</td>\n",
       "      <td>0</td>\n",
       "      <td>0</td>\n",
       "      <td>1.0</td>\n",
       "      <td>0.272727</td>\n",
       "      <td>0.475109</td>\n",
       "      <td>0.272727</td>\n",
       "      <td>0.475109</td>\n",
       "      <td>0.104895</td>\n",
       "      <td>0.201478</td>\n",
       "      <td>0.123064</td>\n",
       "    </tr>\n",
       "    <tr>\n",
       "      <th>2019-02-01</th>\n",
       "      <td>0.0</td>\n",
       "      <td>0.0</td>\n",
       "      <td>1</td>\n",
       "      <td>0</td>\n",
       "      <td>0</td>\n",
       "      <td>0</td>\n",
       "      <td>0</td>\n",
       "      <td>0</td>\n",
       "      <td>1.0</td>\n",
       "      <td>0.090909</td>\n",
       "      <td>0.007148</td>\n",
       "      <td>0.090909</td>\n",
       "      <td>0.007148</td>\n",
       "      <td>0.020979</td>\n",
       "      <td>0.000000</td>\n",
       "      <td>0.051973</td>\n",
       "    </tr>\n",
       "    <tr>\n",
       "      <th>2019-02-06</th>\n",
       "      <td>0.0</td>\n",
       "      <td>0.0</td>\n",
       "      <td>0</td>\n",
       "      <td>0</td>\n",
       "      <td>0</td>\n",
       "      <td>0</td>\n",
       "      <td>0</td>\n",
       "      <td>1</td>\n",
       "      <td>1.0</td>\n",
       "      <td>0.090909</td>\n",
       "      <td>0.453919</td>\n",
       "      <td>0.090909</td>\n",
       "      <td>0.453919</td>\n",
       "      <td>0.020979</td>\n",
       "      <td>0.119765</td>\n",
       "      <td>0.105363</td>\n",
       "    </tr>\n",
       "    <tr>\n",
       "      <th>2019-10-13</th>\n",
       "      <td>1.0</td>\n",
       "      <td>0.0</td>\n",
       "      <td>0</td>\n",
       "      <td>0</td>\n",
       "      <td>1</td>\n",
       "      <td>0</td>\n",
       "      <td>0</td>\n",
       "      <td>0</td>\n",
       "      <td>1.0</td>\n",
       "      <td>0.818182</td>\n",
       "      <td>0.574419</td>\n",
       "      <td>0.818182</td>\n",
       "      <td>0.574419</td>\n",
       "      <td>0.692308</td>\n",
       "      <td>0.562688</td>\n",
       "      <td>0.224330</td>\n",
       "    </tr>\n",
       "    <tr>\n",
       "      <th>2019-07-01</th>\n",
       "      <td>0.0</td>\n",
       "      <td>0.0</td>\n",
       "      <td>0</td>\n",
       "      <td>0</td>\n",
       "      <td>0</td>\n",
       "      <td>0</td>\n",
       "      <td>0</td>\n",
       "      <td>0</td>\n",
       "      <td>1.0</td>\n",
       "      <td>0.545455</td>\n",
       "      <td>0.844013</td>\n",
       "      <td>0.545455</td>\n",
       "      <td>0.844013</td>\n",
       "      <td>0.335664</td>\n",
       "      <td>0.661648</td>\n",
       "      <td>0.651367</td>\n",
       "    </tr>\n",
       "    <tr>\n",
       "      <th>...</th>\n",
       "      <td>...</td>\n",
       "      <td>...</td>\n",
       "      <td>...</td>\n",
       "      <td>...</td>\n",
       "      <td>...</td>\n",
       "      <td>...</td>\n",
       "      <td>...</td>\n",
       "      <td>...</td>\n",
       "      <td>...</td>\n",
       "      <td>...</td>\n",
       "      <td>...</td>\n",
       "      <td>...</td>\n",
       "      <td>...</td>\n",
       "      <td>...</td>\n",
       "      <td>...</td>\n",
       "      <td>...</td>\n",
       "    </tr>\n",
       "    <tr>\n",
       "      <th>2019-03-13</th>\n",
       "      <td>0.0</td>\n",
       "      <td>0.0</td>\n",
       "      <td>0</td>\n",
       "      <td>0</td>\n",
       "      <td>0</td>\n",
       "      <td>0</td>\n",
       "      <td>0</td>\n",
       "      <td>1</td>\n",
       "      <td>1.0</td>\n",
       "      <td>0.181818</td>\n",
       "      <td>0.347460</td>\n",
       "      <td>0.181818</td>\n",
       "      <td>0.347460</td>\n",
       "      <td>0.055944</td>\n",
       "      <td>0.112134</td>\n",
       "      <td>0.037221</td>\n",
       "    </tr>\n",
       "    <tr>\n",
       "      <th>2019-04-17</th>\n",
       "      <td>0.0</td>\n",
       "      <td>0.0</td>\n",
       "      <td>0</td>\n",
       "      <td>0</td>\n",
       "      <td>0</td>\n",
       "      <td>0</td>\n",
       "      <td>0</td>\n",
       "      <td>1</td>\n",
       "      <td>1.0</td>\n",
       "      <td>0.272727</td>\n",
       "      <td>0.623947</td>\n",
       "      <td>0.272727</td>\n",
       "      <td>0.623947</td>\n",
       "      <td>0.104895</td>\n",
       "      <td>0.281276</td>\n",
       "      <td>0.286108</td>\n",
       "    </tr>\n",
       "    <tr>\n",
       "      <th>2019-09-28</th>\n",
       "      <td>1.0</td>\n",
       "      <td>0.0</td>\n",
       "      <td>0</td>\n",
       "      <td>1</td>\n",
       "      <td>0</td>\n",
       "      <td>0</td>\n",
       "      <td>0</td>\n",
       "      <td>0</td>\n",
       "      <td>1.0</td>\n",
       "      <td>0.727273</td>\n",
       "      <td>0.780189</td>\n",
       "      <td>0.727273</td>\n",
       "      <td>0.780189</td>\n",
       "      <td>0.559441</td>\n",
       "      <td>0.759581</td>\n",
       "      <td>0.530179</td>\n",
       "    </tr>\n",
       "    <tr>\n",
       "      <th>2019-12-15</th>\n",
       "      <td>1.0</td>\n",
       "      <td>0.0</td>\n",
       "      <td>0</td>\n",
       "      <td>0</td>\n",
       "      <td>1</td>\n",
       "      <td>0</td>\n",
       "      <td>0</td>\n",
       "      <td>0</td>\n",
       "      <td>1.0</td>\n",
       "      <td>1.000000</td>\n",
       "      <td>0.382946</td>\n",
       "      <td>1.000000</td>\n",
       "      <td>0.382946</td>\n",
       "      <td>1.000000</td>\n",
       "      <td>0.357377</td>\n",
       "      <td>0.056082</td>\n",
       "    </tr>\n",
       "    <tr>\n",
       "      <th>2019-04-13</th>\n",
       "      <td>1.0</td>\n",
       "      <td>0.0</td>\n",
       "      <td>0</td>\n",
       "      <td>1</td>\n",
       "      <td>0</td>\n",
       "      <td>0</td>\n",
       "      <td>0</td>\n",
       "      <td>0</td>\n",
       "      <td>1.0</td>\n",
       "      <td>0.272727</td>\n",
       "      <td>0.687771</td>\n",
       "      <td>0.272727</td>\n",
       "      <td>0.687771</td>\n",
       "      <td>0.104895</td>\n",
       "      <td>0.315494</td>\n",
       "      <td>0.376787</td>\n",
       "    </tr>\n",
       "  </tbody>\n",
       "</table>\n",
       "<p>244 rows × 16 columns</p>\n",
       "</div>"
      ],
      "text/plain": [
       "            weekend  holiday  Friday  Saturday  Sunday  Thursday  Tuesday  \\\n",
       "day                                                                         \n",
       "2019-04-29      0.0      0.0       0         0       0         0        0   \n",
       "2019-02-01      0.0      0.0       1         0       0         0        0   \n",
       "2019-02-06      0.0      0.0       0         0       0         0        0   \n",
       "2019-10-13      1.0      0.0       0         0       1         0        0   \n",
       "2019-07-01      0.0      0.0       0         0       0         0        0   \n",
       "...             ...      ...     ...       ...     ...       ...      ...   \n",
       "2019-03-13      0.0      0.0       0         0       0         0        0   \n",
       "2019-04-17      0.0      0.0       0         0       0         0        0   \n",
       "2019-09-28      1.0      0.0       0         1       0         0        0   \n",
       "2019-12-15      1.0      0.0       0         0       1         0        0   \n",
       "2019-04-13      1.0      0.0       0         1       0         0        0   \n",
       "\n",
       "            Wednesday    1     month      TAVG        x0        x1      x0^2  \\\n",
       "day                                                                            \n",
       "2019-04-29          0  1.0  0.272727  0.475109  0.272727  0.475109  0.104895   \n",
       "2019-02-01          0  1.0  0.090909  0.007148  0.090909  0.007148  0.020979   \n",
       "2019-02-06          1  1.0  0.090909  0.453919  0.090909  0.453919  0.020979   \n",
       "2019-10-13          0  1.0  0.818182  0.574419  0.818182  0.574419  0.692308   \n",
       "2019-07-01          0  1.0  0.545455  0.844013  0.545455  0.844013  0.335664   \n",
       "...               ...  ...       ...       ...       ...       ...       ...   \n",
       "2019-03-13          1  1.0  0.181818  0.347460  0.181818  0.347460  0.055944   \n",
       "2019-04-17          1  1.0  0.272727  0.623947  0.272727  0.623947  0.104895   \n",
       "2019-09-28          0  1.0  0.727273  0.780189  0.727273  0.780189  0.559441   \n",
       "2019-12-15          0  1.0  1.000000  0.382946  1.000000  0.382946  1.000000   \n",
       "2019-04-13          0  1.0  0.272727  0.687771  0.272727  0.687771  0.104895   \n",
       "\n",
       "               x0 x1      x1^2  \n",
       "day                             \n",
       "2019-04-29  0.201478  0.123064  \n",
       "2019-02-01  0.000000  0.051973  \n",
       "2019-02-06  0.119765  0.105363  \n",
       "2019-10-13  0.562688  0.224330  \n",
       "2019-07-01  0.661648  0.651367  \n",
       "...              ...       ...  \n",
       "2019-03-13  0.112134  0.037221  \n",
       "2019-04-17  0.281276  0.286108  \n",
       "2019-09-28  0.759581  0.530179  \n",
       "2019-12-15  0.357377  0.056082  \n",
       "2019-04-13  0.315494  0.376787  \n",
       "\n",
       "[244 rows x 16 columns]"
      ]
     },
     "execution_count": 202,
     "metadata": {},
     "output_type": "execute_result"
    }
   ],
   "source": [
    "X_train"
   ]
  },
  {
   "cell_type": "raw",
   "metadata": {},
   "source": []
  },
  {
   "cell_type": "markdown",
   "metadata": {},
   "source": [
    "## Models"
   ]
  },
  {
   "cell_type": "markdown",
   "metadata": {},
   "source": [
    "### Linear Regression with Regularization"
   ]
  },
  {
   "cell_type": "code",
   "execution_count": 213,
   "metadata": {},
   "outputs": [],
   "source": [
    "from sklearn.linear_model import Ridge\n",
    "from sklearn.metrics import mean_squared_error"
   ]
  },
  {
   "cell_type": "code",
   "execution_count": 228,
   "metadata": {},
   "outputs": [
    {
     "data": {
      "text/plain": [
       "0.7303528298059745"
      ]
     },
     "execution_count": 228,
     "metadata": {},
     "output_type": "execute_result"
    }
   ],
   "source": [
    "m = Ridge(alpha=0.01) \n",
    "m.fit(X_train, y_train)  \n",
    "m.score(X_train, y_train)"
   ]
  },
  {
   "cell_type": "code",
   "execution_count": 229,
   "metadata": {
    "collapsed": true
   },
   "outputs": [
    {
     "data": {
      "text/plain": [
       "array([ 9981.78613613,  2256.90768156,  8561.7642194 ,  8939.25963863,\n",
       "       11765.23161036,  8385.47442736,  9401.41226551, 11804.69877708,\n",
       "       12321.48415349, 10497.65787111,  7266.14671375, 10701.80635699,\n",
       "        9999.21103718,  4864.39566584,  5022.10824536, 11518.18293137,\n",
       "        4141.57194083, 12479.4153693 ,  9529.92927512,  8501.63019167,\n",
       "       10144.45297521, 10263.38417801, 12503.00358808, 12146.93616916,\n",
       "       11732.35885793, 11478.82591018, 11871.6597342 , 10386.10257381,\n",
       "        9349.62202993, 12138.33645873,  9332.08319686, 12037.39979287,\n",
       "        9311.47256644, 10839.17040195, 10912.69896707,  6873.17134037,\n",
       "        6867.44622979,  8243.06720457, 11977.30935245, 12137.36331818,\n",
       "        7445.36365933, 12231.26914196, 11105.04204192, 10084.33524764,\n",
       "        5517.35853067, 11405.20192941, 10473.15710652,  7745.99519492,\n",
       "        9001.92680472,  7681.69322045, 12337.18541362,  7516.54190396,\n",
       "       12357.33453436, 10626.01185034, 11784.60842046,  7811.50339821,\n",
       "       12227.79970112, 11363.75734209, 12123.65880183,  8617.84824229,\n",
       "        4023.08173405, 12398.56045559, 10154.30517263, 11604.28895109,\n",
       "       11968.9712781 , 12591.74699981, 12308.06349302,  9332.08319686,\n",
       "        6503.44574285,  5186.5501235 ,  2800.29012539,  3785.82878416,\n",
       "       12482.67867528, 12018.04838496, 10109.24966718, 12529.68659197,\n",
       "       11909.33186259,  6197.40926261,  6442.99066299, 11434.37942692,\n",
       "       10541.73765425, 11971.37859678, 10861.6381417 , 12013.62310917,\n",
       "       11134.35465934, 12160.665487  ,  7438.48795037, 12073.456677  ,\n",
       "        9819.99909054, 10688.41803424,  2515.50427006,  9349.62202993,\n",
       "       11043.89850677, 11133.21800301, 10227.09654371, 11692.57155058,\n",
       "       11666.65277621, 11197.53472039, 12138.33645873,  6908.3567256 ,\n",
       "        5519.42936442,  5903.08839131, 11412.69521972,  8486.63253379,\n",
       "       12014.27749181,  9313.07731903, 10527.41804007,  1940.69917404,\n",
       "        8618.15850418,  4685.08321274, 11857.08016212, 11873.05169469,\n",
       "       12197.18135257, 12018.78697095, 12022.20875903, 12270.04202144,\n",
       "        9698.49408725,  5193.08744826,  6647.97006189, 11085.72596679,\n",
       "       10641.7192262 , 10492.93188276, 12218.82354707, 12500.3452705 ,\n",
       "       12020.38518789,  5573.61994826,  8434.76597187, 10947.87749951,\n",
       "       12487.37574333, 12106.49406383,  2903.03822133,  6103.62986719,\n",
       "       11981.04031199, 11812.86372373, 11099.02159775,  6781.12055266,\n",
       "       11971.48530329,  6941.71464768, 10716.65813282, 12064.06342359,\n",
       "        6176.74188699, 12308.06349302, 12370.15940874, 11625.0504701 ,\n",
       "       10128.73026312,  6399.07744875,  4273.13732051,  3421.09706036,\n",
       "       12015.19385134, 11548.84516941,  8093.8377796 ,  4398.50634523,\n",
       "        9574.73263112, 11280.99805545, 12015.19385134, 12449.19142753,\n",
       "        8837.588045  , 10075.98637975,  6885.87396791, 11829.78446121,\n",
       "       11840.65872478,  6843.52673656,  5506.42383483,  3439.43411864,\n",
       "       11982.24323475,  3076.04622159,  4318.11885103, 10171.7573335 ,\n",
       "       11630.08359482, 10764.09427781,  5951.53107903, 10504.64470253,\n",
       "       12301.19296407, 12042.22815397,  8019.64724641, 11363.75734209,\n",
       "        2311.83406458,  7536.55660162, 12087.49684   ,  9576.46388352,\n",
       "       12607.96827727,  7202.84983113, 12367.39620648, 12363.59914796,\n",
       "       12123.67516267, 10962.02686676,  6972.50562477,  6516.25703455,\n",
       "        6457.51509661,  9066.56815291, 12290.59395433,  6901.50784312,\n",
       "       11969.00663322,  9435.37914904,  8149.20521301,  9962.44833199,\n",
       "       12463.01669161,  3355.16276466,  9004.20045366, 10344.24959052,\n",
       "       11536.00256667, 10411.62550179,  4521.20728155, 11819.79691617,\n",
       "        6381.21059269,  5465.02390953,  7343.28763058, 10050.61797221,\n",
       "        5601.02521536,  5885.49954943, 11692.17951054, 12665.68525395,\n",
       "        5456.68604618, 10387.78584915, 12314.07538585,  6993.09851496,\n",
       "        5802.47731128, 12361.82093415, 12162.5829255 ,  1586.29772645,\n",
       "        5767.53266896, 11795.50861051, 11433.45313828, 12127.91228847,\n",
       "       10239.74226639,  8364.19223065,  9982.59053352,  9212.67934461,\n",
       "       11637.40278964, 11997.31441154, 12289.33376736, 11378.29540404,\n",
       "       10294.93011722,  8909.91714294, 12139.65003913, 11857.46637775,\n",
       "        7305.63955228,  -563.54988903, 11809.39584514,  8642.77124061,\n",
       "       11342.96931917, 11960.00422526,  5049.06392249, 11389.9015943 ])"
      ]
     },
     "execution_count": 229,
     "metadata": {},
     "output_type": "execute_result"
    }
   ],
   "source": [
    "ypred = m.predict(X_train) \n",
    "ypred"
   ]
  },
  {
   "cell_type": "code",
   "execution_count": 215,
   "metadata": {},
   "outputs": [
    {
     "data": {
      "text/plain": [
       "3080284.412276213"
      ]
     },
     "execution_count": 215,
     "metadata": {},
     "output_type": "execute_result"
    }
   ],
   "source": [
    "mean_squared_error(y_train, ypred)"
   ]
  },
  {
   "cell_type": "code",
   "execution_count": 231,
   "metadata": {},
   "outputs": [
    {
     "data": {
      "text/plain": [
       "<matplotlib.collections.PathCollection at 0x7fa584c93550>"
      ]
     },
     "execution_count": 231,
     "metadata": {},
     "output_type": "execute_result"
    },
    {
     "data": {
      "image/png": "[encoded data removed]",
      "text/plain": [
       "<Figure size 432x288 with 1 Axes>"
      ]
     },
     "metadata": {
      "needs_background": "light"
     },
     "output_type": "display_data"
    }
   ],
   "source": [
    "plt.scatter(y_train, ypred)"
   ]
  },
  {
   "cell_type": "code",
   "execution_count": 220,
   "metadata": {},
   "outputs": [
    {
     "data": {
      "text/plain": [
       "array([  -247.75582182,   -767.98764429,    675.45652053,    801.73959021,\n",
       "        -1049.49541207,    409.78396989,    789.82203873,    618.3727443 ,\n",
       "            0.        ,   9445.05164081,   7398.26111348,   9445.05164082,\n",
       "         7398.26111348, -19069.18988018,   1895.97116938, -10109.33864432])"
      ]
     },
     "execution_count": 220,
     "metadata": {},
     "output_type": "execute_result"
    }
   ],
   "source": [
    "m.coef_"
   ]
  },
  {
   "cell_type": "markdown",
   "metadata": {},
   "source": [
    "###  TEST"
   ]
  },
  {
   "cell_type": "code",
   "execution_count": null,
   "metadata": {},
   "outputs": [],
   "source": [
    "#  make pipeline for feature engineering"
   ]
  },
  {
   "cell_type": "code",
   "execution_count": null,
   "metadata": {},
   "outputs": [],
   "source": []
  },
  {
   "cell_type": "markdown",
   "metadata": {},
   "source": [
    "## Random Forest"
   ]
  },
  {
   "cell_type": "code",
   "execution_count": 232,
   "metadata": {},
   "outputs": [],
   "source": [
    "from sklearn.ensemble import RandomForestRegressor"
   ]
  },
  {
   "cell_type": "code",
   "execution_count": 233,
   "metadata": {},
   "outputs": [],
   "source": [
    "rf = RandomForestRegressor(max_depth=7)"
   ]
  },
  {
   "cell_type": "code",
   "execution_count": 234,
   "metadata": {},
   "outputs": [
    {
     "data": {
      "text/plain": [
       "0.9012647017242016"
      ]
     },
     "execution_count": 234,
     "metadata": {},
     "output_type": "execute_result"
    }
   ],
   "source": [
    "rf.fit(X_train, y_train)  \n",
    "rf.score(X_train, y_train.values.ravel())"
   ]
  },
  {
   "cell_type": "code",
   "execution_count": null,
   "metadata": {},
   "outputs": [],
   "source": []
  },
  {
   "cell_type": "code",
   "execution_count": null,
   "metadata": {},
   "outputs": [],
   "source": []
  },
  {
   "cell_type": "code",
   "execution_count": null,
   "metadata": {},
   "outputs": [],
   "source": []
  },
  {
   "cell_type": "code",
   "execution_count": null,
   "metadata": {},
   "outputs": [],
   "source": [
    "## Hyperparameter Optimization"
   ]
  },
  {
   "cell_type": "code",
   "execution_count": null,
   "metadata": {},
   "outputs": [],
   "source": [
    "#split train/test set\n",
    "from sklearn.model_selection import train_test_split"
   ]
  },
  {
   "cell_type": "code",
   "execution_count": null,
   "metadata": {},
   "outputs": [],
   "source": [
    "Xtrain_forest, Xtest_forest, ytrain_forest, ytest_forest = train_test_split(Xtrain, ytrain, test_size=0.3, random_state=42)\n",
    "Xtrain_forest.shape, ytrain_forest.shape"
   ]
  },
  {
   "cell_type": "code",
   "execution_count": null,
   "metadata": {},
   "outputs": [],
   "source": [
    "from sklearn.model_selection import GridSearchCV"
   ]
  },
  {
   "cell_type": "code",
   "execution_count": null,
   "metadata": {},
   "outputs": [],
   "source": [
    "param_grid = {\n",
    "    'max_depth': [6, 8, 16],\n",
    "    'n_estimators': [10, 100, 200]\n",
    "}\n",
    "param_grid"
   ]
  },
  {
   "cell_type": "code",
   "execution_count": null,
   "metadata": {},
   "outputs": [],
   "source": [
    "cv = GridSearchCV(rf, param_grid, \n",
    "                  return_train_score=True,\n",
    "                  cv=2, n_jobs=4)\n",
    "\n",
    "forest=cv.fit(Xtrain_forest, ytrain_forest)\n",
    "\n",
    "ypred_forest=forest.predict(Xtest_forest)\n",
    "forest.score(Xtest_forest,ytest_forest)"
   ]
  },
  {
   "cell_type": "code",
   "execution_count": null,
   "metadata": {},
   "outputs": [],
   "source": [
    "cv.best_estimator_"
   ]
  },
  {
   "cell_type": "code",
   "execution_count": null,
   "metadata": {},
   "outputs": [],
   "source": []
  },
  {
   "cell_type": "code",
   "execution_count": null,
   "metadata": {},
   "outputs": [],
   "source": []
  },
  {
   "cell_type": "code",
   "execution_count": null,
   "metadata": {},
   "outputs": [],
   "source": []
  },
  {
   "cell_type": "code",
   "execution_count": null,
   "metadata": {},
   "outputs": [],
   "source": []
  },
  {
   "cell_type": "markdown",
   "metadata": {},
   "source": [
    "## Gradient Descent"
   ]
  },
  {
   "cell_type": "code",
   "execution_count": null,
   "metadata": {},
   "outputs": [],
   "source": [
    "temp = df[['temp_scaled', 'count']]\n",
    "\n",
    "# Building the model\n",
    "a = 100\n",
    "b = 200\n",
    "\n",
    "learning_rate = 0.01\n",
    "max_iterations = 15000  \n",
    "threshold = 0.01\n",
    "\n",
    "n = temp['count'].count()"
   ]
  },
  {
   "cell_type": "code",
   "execution_count": null,
   "metadata": {},
   "outputs": [],
   "source": [
    "# applying Gradient Descent \n",
    "for i in range(max_iterations): \n",
    "    temp['count_pred'] = temp['temp_scaled']*b + a    # temp_scaled = xtrain, count_pred = ypred\n",
    "    derivative_a = (-2/n) * sum(temp['count'] - temp['count_pred'])  # derivative of loss function\n",
    "    derivative_b = (-2/n) * sum((temp['count'] - temp['count_pred'])*temp['temp_scaled'])\n",
    "    mse = 1/n*sum((temp['count'] - temp['count_pred'])**2)\n",
    "    grad_norm = np.sqrt(derivative_a**2 + derivative_b**2)   #???\n",
    "    if grad_norm <= threshold:\n",
    "        print (a, b, mse, 'threshold reached')\n",
    "        break\n",
    "      \n",
    "    a = a - learning_rate * derivative_a  # Update a\n",
    "    b = b - learning_rate * derivative_b  # Update b\n",
    "    \n",
    "    if i % 100 == 0:\n",
    "        print (i, a, b, mse, grad_norm)"
   ]
  },
  {
   "cell_type": "code",
   "execution_count": null,
   "metadata": {},
   "outputs": [],
   "source": [
    "derivative_a"
   ]
  }
 ],
 "metadata": {
  "kernelspec": {
   "display_name": "Python 3",
   "language": "python",
   "name": "python3"
  },
  "language_info": {
   "codemirror_mode": {
    "name": "ipython",
    "version": 3
   },
   "file_extension": ".py",
   "mimetype": "text/x-python",
   "name": "python",
   "nbconvert_exporter": "python",
   "pygments_lexer": "ipython3",
   "version": "3.6.10"
  }
 },
 "nbformat": 4,
 "nbformat_minor": 4
}
