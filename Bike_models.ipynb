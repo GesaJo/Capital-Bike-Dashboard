{
 "cells": [
  {
   "cell_type": "code",
   "execution_count": 1,
   "metadata": {},
   "outputs": [],
   "source": [
    "import pandas as pd\n",
    "from sklearn.preprocessing import PolynomialFeatures, StandardScaler\n",
    "from sklearn.model_selection import train_test_split\n",
    "from pandas.tseries.holiday import USFederalHolidayCalendar as calendar"
   ]
  },
  {
   "cell_type": "code",
   "execution_count": 2,
   "metadata": {},
   "outputs": [],
   "source": [
    "import matplotlib.pyplot as plt\n",
    "import seaborn as sns"
   ]
  },
  {
   "cell_type": "code",
   "execution_count": 153,
   "metadata": {},
   "outputs": [],
   "source": [
    "df = pd.read_csv(\"data/df_main.csv\")"
   ]
  },
  {
   "cell_type": "markdown",
   "metadata": {},
   "source": [
    "## Prepare data"
   ]
  },
  {
   "cell_type": "code",
   "execution_count": 154,
   "metadata": {},
   "outputs": [],
   "source": [
    "df_day = df.groupby([\"day\", \"weekday\",\"month\", \"TAVG\" ]).count().reset_index()\n",
    "df_day = df_day[[\"day\", \"weekday\", \"month\", \"TAVG\", \"Duration\"]]\n",
    "df_day = df_day.rename(columns={\"Duration\": \"count\"})"
   ]
  },
  {
   "cell_type": "markdown",
   "metadata": {},
   "source": [
    "### Train-test-split"
   ]
  },
  {
   "cell_type": "code",
   "execution_count": 223,
   "metadata": {},
   "outputs": [],
   "source": [
    "X_t, X_test, y_t, y_test = train_test_split(df_day.iloc[:,:-1], df_day.iloc[:,-1], test_size=0.33, random_state=42)"
   ]
  },
  {
   "cell_type": "code",
   "execution_count": 224,
   "metadata": {},
   "outputs": [
    {
     "data": {
      "text/plain": [
       "((244, 4), (121, 4), (244,), (121,))"
      ]
     },
     "execution_count": 224,
     "metadata": {},
     "output_type": "execute_result"
    }
   ],
   "source": [
    "#check:\n",
    "X_t.shape, X_test.shape, y_t.shape, y_test.shape"
   ]
  },
  {
   "cell_type": "code",
   "execution_count": null,
   "metadata": {},
   "outputs": [],
   "source": []
  },
  {
   "cell_type": "markdown",
   "metadata": {},
   "source": [
    "### Feature Engineering"
   ]
  },
  {
   "cell_type": "code",
   "execution_count": 225,
   "metadata": {},
   "outputs": [],
   "source": [
    "def feature_engineering(data):\n",
    "    \n",
    "    #data_w = encode_weekends(data)\n",
    "    data_h = encode_holidays(data)\n",
    "    data_d = dummies_weekdays(data_h)\n",
    "    data_p = polynomial_interaction(data_d)\n",
    "    data_n = scaling_s(data_p)   \n",
    "    data_n = data_n.drop([\"x0\", \"x1\"], axis=1)\n",
    "    \n",
    "    return data_n"
   ]
  },
  {
   "cell_type": "code",
   "execution_count": 226,
   "metadata": {},
   "outputs": [],
   "source": [
    "def encode_weekends(X_train):\n",
    "    X_train.loc[(X_train[\"weekday\"] == \"Saturday\") | (X_train[\"weekday\"] == \"Sunday\"), \"weekend\"] = 1\n",
    "    X_train[\"weekend\"] = X_train[\"weekend\"].fillna(0)\n",
    "    return X_train"
   ]
  },
  {
   "cell_type": "code",
   "execution_count": 227,
   "metadata": {},
   "outputs": [],
   "source": [
    "def encode_holidays(X_train):\n",
    "    cal = calendar()\n",
    "    holidays = list(cal.holidays(start=df_day[\"day\"].min(), end=df_day[\"day\"].max()))\n",
    "    holidays = [str(x.date()) for x in holidays]\n",
    "    X_train.loc[(df_day[\"day\"].isin(holidays)), \"holiday\"] = 1\n",
    "    X_train[\"holiday\"] = X_train[\"holiday\"].fillna(0)\n",
    "    X_train.set_index(\"day\", inplace=True)\n",
    "    return X_train    "
   ]
  },
  {
   "cell_type": "code",
   "execution_count": 228,
   "metadata": {},
   "outputs": [],
   "source": [
    "def dummies_weekdays(X_train):\n",
    "    dummies = pd.get_dummies(X_train['weekday'])\n",
    "    X_train = pd.concat([X_train, dummies.set_index(X_train.index)], axis=1) \n",
    "    X_train.drop([\"Monday\", \"weekday\"], axis=1, inplace=True)\n",
    "    return X_train"
   ]
  },
  {
   "cell_type": "code",
   "execution_count": 229,
   "metadata": {},
   "outputs": [],
   "source": [
    "def polynomial_interaction(X_train):\n",
    "    poly = PolynomialFeatures(degree=2)\n",
    "    x_poly = poly.fit_transform(X_train[[\"month\", \"TAVG\"]])\n",
    "    c_names = poly.get_feature_names()\n",
    "    df_poly = pd.DataFrame(x_poly, columns= c_names)\n",
    "    X_train = X_train.reset_index()\n",
    "    X_train = pd.concat([X_train, df_poly], axis=1)\n",
    "    return X_train"
   ]
  },
  {
   "cell_type": "code",
   "execution_count": 230,
   "metadata": {},
   "outputs": [],
   "source": [
    "def scaling_s(X_train):\n",
    "    Scale = StandardScaler()\n",
    "    scaled = Scale.fit_transform(X_train[[\"month\", \"TAVG\", \"x0\", \"x1\", \"x0^2\", \"x0 x1\", \"x1^2\"]])\n",
    "    scaled = pd.DataFrame(scaled, columns=[\"month\", \"TAVG\", \"x0\", \"x1\", \"x0^2\", \"x0 x1\", \"x1^2\"])\n",
    "    X_train = X_train.drop([\"month\", \"TAVG\", \"x0\", \"x1\", \"x0^2\", \"x0 x1\", \"x1^2\"], axis=1)\n",
    "    X_train = pd.concat([X_train, scaled], axis=1)\n",
    "    X_train = X_train.set_index(\"day\")\n",
    "    return X_train"
   ]
  },
  {
   "cell_type": "code",
   "execution_count": 231,
   "metadata": {},
   "outputs": [],
   "source": [
    "def scaling_y(y):\n",
    "    y = pd.DataFrame(y)\n",
    "    Scale = StandardScaler()\n",
    "    scaled = Scale.fit_transform(y)\n",
    "    return scaled"
   ]
  },
  {
   "cell_type": "code",
   "execution_count": 232,
   "metadata": {},
   "outputs": [],
   "source": [
    "X = feature_engineering(X_t)"
   ]
  },
  {
   "cell_type": "code",
   "execution_count": 33,
   "metadata": {
    "collapsed": true
   },
   "outputs": [
    {
     "ename": "KeyError",
     "evalue": "\"None of ['day'] are in the columns\"",
     "output_type": "error",
     "traceback": [
      "\u001b[0;31m---------------------------------------------------------------------------\u001b[0m",
      "\u001b[0;31mKeyError\u001b[0m                                  Traceback (most recent call last)",
      "\u001b[0;32m<ipython-input-33-652f66a5569e>\u001b[0m in \u001b[0;36m<module>\u001b[0;34m\u001b[0m\n\u001b[0;32m----> 1\u001b[0;31m \u001b[0mX\u001b[0m\u001b[0;34m.\u001b[0m\u001b[0mset_index\u001b[0m\u001b[0;34m(\u001b[0m\u001b[0;34m\"day\"\u001b[0m\u001b[0;34m,\u001b[0m \u001b[0minplace\u001b[0m\u001b[0;34m=\u001b[0m\u001b[0;32mTrue\u001b[0m\u001b[0;34m)\u001b[0m\u001b[0;34m\u001b[0m\u001b[0;34m\u001b[0m\u001b[0m\n\u001b[0m",
      "\u001b[0;32m~/anaconda3/envs/std/lib/python3.6/site-packages/pandas/core/frame.py\u001b[0m in \u001b[0;36mset_index\u001b[0;34m(self, keys, drop, append, inplace, verify_integrity)\u001b[0m\n\u001b[1;32m   4409\u001b[0m \u001b[0;34m\u001b[0m\u001b[0m\n\u001b[1;32m   4410\u001b[0m         \u001b[0;32mif\u001b[0m \u001b[0mmissing\u001b[0m\u001b[0;34m:\u001b[0m\u001b[0;34m\u001b[0m\u001b[0;34m\u001b[0m\u001b[0m\n\u001b[0;32m-> 4411\u001b[0;31m             \u001b[0;32mraise\u001b[0m \u001b[0mKeyError\u001b[0m\u001b[0;34m(\u001b[0m\u001b[0;34m\"None of {} are in the columns\"\u001b[0m\u001b[0;34m.\u001b[0m\u001b[0mformat\u001b[0m\u001b[0;34m(\u001b[0m\u001b[0mmissing\u001b[0m\u001b[0;34m)\u001b[0m\u001b[0;34m)\u001b[0m\u001b[0;34m\u001b[0m\u001b[0;34m\u001b[0m\u001b[0m\n\u001b[0m\u001b[1;32m   4412\u001b[0m \u001b[0;34m\u001b[0m\u001b[0m\n\u001b[1;32m   4413\u001b[0m         \u001b[0;32mif\u001b[0m \u001b[0minplace\u001b[0m\u001b[0;34m:\u001b[0m\u001b[0;34m\u001b[0m\u001b[0;34m\u001b[0m\u001b[0m\n",
      "\u001b[0;31mKeyError\u001b[0m: \"None of ['day'] are in the columns\""
     ]
    }
   ],
   "source": [
    "#X.set_index(\"day\", inplace=True)"
   ]
  },
  {
   "cell_type": "code",
   "execution_count": 233,
   "metadata": {},
   "outputs": [
    {
     "data": {
      "text/html": [
       "<div>\n",
       "<style scoped>\n",
       "    .dataframe tbody tr th:only-of-type {\n",
       "        vertical-align: middle;\n",
       "    }\n",
       "\n",
       "    .dataframe tbody tr th {\n",
       "        vertical-align: top;\n",
       "    }\n",
       "\n",
       "    .dataframe thead th {\n",
       "        text-align: right;\n",
       "    }\n",
       "</style>\n",
       "<table border=\"1\" class=\"dataframe\">\n",
       "  <thead>\n",
       "    <tr style=\"text-align: right;\">\n",
       "      <th></th>\n",
       "      <th>holiday</th>\n",
       "      <th>Friday</th>\n",
       "      <th>Saturday</th>\n",
       "      <th>Sunday</th>\n",
       "      <th>Thursday</th>\n",
       "      <th>Tuesday</th>\n",
       "      <th>Wednesday</th>\n",
       "      <th>1</th>\n",
       "      <th>month</th>\n",
       "      <th>TAVG</th>\n",
       "      <th>x0^2</th>\n",
       "      <th>x0 x1</th>\n",
       "      <th>x1^2</th>\n",
       "    </tr>\n",
       "    <tr>\n",
       "      <th>day</th>\n",
       "      <th></th>\n",
       "      <th></th>\n",
       "      <th></th>\n",
       "      <th></th>\n",
       "      <th></th>\n",
       "      <th></th>\n",
       "      <th></th>\n",
       "      <th></th>\n",
       "      <th></th>\n",
       "      <th></th>\n",
       "      <th></th>\n",
       "      <th></th>\n",
       "      <th></th>\n",
       "    </tr>\n",
       "  </thead>\n",
       "  <tbody>\n",
       "    <tr>\n",
       "      <th>2019-04-29</th>\n",
       "      <td>0.0</td>\n",
       "      <td>0</td>\n",
       "      <td>0</td>\n",
       "      <td>0</td>\n",
       "      <td>0</td>\n",
       "      <td>0</td>\n",
       "      <td>0</td>\n",
       "      <td>1.0</td>\n",
       "      <td>-0.771261</td>\n",
       "      <td>-0.447607</td>\n",
       "      <td>-0.858827</td>\n",
       "      <td>-0.832586</td>\n",
       "      <td>-0.749662</td>\n",
       "    </tr>\n",
       "    <tr>\n",
       "      <th>2019-02-01</th>\n",
       "      <td>0.0</td>\n",
       "      <td>1</td>\n",
       "      <td>0</td>\n",
       "      <td>0</td>\n",
       "      <td>0</td>\n",
       "      <td>0</td>\n",
       "      <td>0</td>\n",
       "      <td>1.0</td>\n",
       "      <td>-1.372500</td>\n",
       "      <td>-2.359344</td>\n",
       "      <td>-1.128813</td>\n",
       "      <td>-1.595902</td>\n",
       "      <td>-1.009508</td>\n",
       "    </tr>\n",
       "    <tr>\n",
       "      <th>2019-02-06</th>\n",
       "      <td>0.0</td>\n",
       "      <td>0</td>\n",
       "      <td>0</td>\n",
       "      <td>0</td>\n",
       "      <td>0</td>\n",
       "      <td>0</td>\n",
       "      <td>1</td>\n",
       "      <td>1.0</td>\n",
       "      <td>-1.372500</td>\n",
       "      <td>-0.534172</td>\n",
       "      <td>-1.128813</td>\n",
       "      <td>-1.142165</td>\n",
       "      <td>-0.814360</td>\n",
       "    </tr>\n",
       "    <tr>\n",
       "      <th>2019-10-13</th>\n",
       "      <td>0.0</td>\n",
       "      <td>0</td>\n",
       "      <td>0</td>\n",
       "      <td>1</td>\n",
       "      <td>0</td>\n",
       "      <td>0</td>\n",
       "      <td>0</td>\n",
       "      <td>1.0</td>\n",
       "      <td>1.032455</td>\n",
       "      <td>-0.041898</td>\n",
       "      <td>1.031072</td>\n",
       "      <td>0.535886</td>\n",
       "      <td>-0.379528</td>\n",
       "    </tr>\n",
       "    <tr>\n",
       "      <th>2019-07-01</th>\n",
       "      <td>0.0</td>\n",
       "      <td>0</td>\n",
       "      <td>0</td>\n",
       "      <td>0</td>\n",
       "      <td>0</td>\n",
       "      <td>0</td>\n",
       "      <td>0</td>\n",
       "      <td>1.0</td>\n",
       "      <td>0.130597</td>\n",
       "      <td>1.059463</td>\n",
       "      <td>-0.116367</td>\n",
       "      <td>0.910802</td>\n",
       "      <td>1.181336</td>\n",
       "    </tr>\n",
       "    <tr>\n",
       "      <th>...</th>\n",
       "      <td>...</td>\n",
       "      <td>...</td>\n",
       "      <td>...</td>\n",
       "      <td>...</td>\n",
       "      <td>...</td>\n",
       "      <td>...</td>\n",
       "      <td>...</td>\n",
       "      <td>...</td>\n",
       "      <td>...</td>\n",
       "      <td>...</td>\n",
       "      <td>...</td>\n",
       "      <td>...</td>\n",
       "      <td>...</td>\n",
       "    </tr>\n",
       "    <tr>\n",
       "      <th>2019-03-13</th>\n",
       "      <td>0.0</td>\n",
       "      <td>0</td>\n",
       "      <td>0</td>\n",
       "      <td>0</td>\n",
       "      <td>0</td>\n",
       "      <td>0</td>\n",
       "      <td>1</td>\n",
       "      <td>1.0</td>\n",
       "      <td>-1.071881</td>\n",
       "      <td>-0.969085</td>\n",
       "      <td>-1.016319</td>\n",
       "      <td>-1.171074</td>\n",
       "      <td>-1.063429</td>\n",
       "    </tr>\n",
       "    <tr>\n",
       "      <th>2019-04-17</th>\n",
       "      <td>0.0</td>\n",
       "      <td>0</td>\n",
       "      <td>0</td>\n",
       "      <td>0</td>\n",
       "      <td>0</td>\n",
       "      <td>0</td>\n",
       "      <td>1</td>\n",
       "      <td>1.0</td>\n",
       "      <td>-0.771261</td>\n",
       "      <td>0.160436</td>\n",
       "      <td>-0.858827</td>\n",
       "      <td>-0.530267</td>\n",
       "      <td>-0.153720</td>\n",
       "    </tr>\n",
       "    <tr>\n",
       "      <th>2019-09-28</th>\n",
       "      <td>0.0</td>\n",
       "      <td>0</td>\n",
       "      <td>1</td>\n",
       "      <td>0</td>\n",
       "      <td>0</td>\n",
       "      <td>0</td>\n",
       "      <td>0</td>\n",
       "      <td>1.0</td>\n",
       "      <td>0.731836</td>\n",
       "      <td>0.798724</td>\n",
       "      <td>0.603595</td>\n",
       "      <td>1.281830</td>\n",
       "      <td>0.738383</td>\n",
       "    </tr>\n",
       "    <tr>\n",
       "      <th>2019-12-15</th>\n",
       "      <td>0.0</td>\n",
       "      <td>0</td>\n",
       "      <td>0</td>\n",
       "      <td>1</td>\n",
       "      <td>0</td>\n",
       "      <td>0</td>\n",
       "      <td>0</td>\n",
       "      <td>1.0</td>\n",
       "      <td>1.633694</td>\n",
       "      <td>-0.824114</td>\n",
       "      <td>2.021019</td>\n",
       "      <td>-0.241950</td>\n",
       "      <td>-0.994488</td>\n",
       "    </tr>\n",
       "    <tr>\n",
       "      <th>2019-04-13</th>\n",
       "      <td>0.0</td>\n",
       "      <td>0</td>\n",
       "      <td>1</td>\n",
       "      <td>0</td>\n",
       "      <td>0</td>\n",
       "      <td>0</td>\n",
       "      <td>0</td>\n",
       "      <td>1.0</td>\n",
       "      <td>-0.771261</td>\n",
       "      <td>0.421174</td>\n",
       "      <td>-0.858827</td>\n",
       "      <td>-0.400628</td>\n",
       "      <td>0.177721</td>\n",
       "    </tr>\n",
       "  </tbody>\n",
       "</table>\n",
       "<p>244 rows × 13 columns</p>\n",
       "</div>"
      ],
      "text/plain": [
       "            holiday  Friday  Saturday  Sunday  Thursday  Tuesday  Wednesday  \\\n",
       "day                                                                           \n",
       "2019-04-29      0.0       0         0       0         0        0          0   \n",
       "2019-02-01      0.0       1         0       0         0        0          0   \n",
       "2019-02-06      0.0       0         0       0         0        0          1   \n",
       "2019-10-13      0.0       0         0       1         0        0          0   \n",
       "2019-07-01      0.0       0         0       0         0        0          0   \n",
       "...             ...     ...       ...     ...       ...      ...        ...   \n",
       "2019-03-13      0.0       0         0       0         0        0          1   \n",
       "2019-04-17      0.0       0         0       0         0        0          1   \n",
       "2019-09-28      0.0       0         1       0         0        0          0   \n",
       "2019-12-15      0.0       0         0       1         0        0          0   \n",
       "2019-04-13      0.0       0         1       0         0        0          0   \n",
       "\n",
       "              1     month      TAVG      x0^2     x0 x1      x1^2  \n",
       "day                                                                \n",
       "2019-04-29  1.0 -0.771261 -0.447607 -0.858827 -0.832586 -0.749662  \n",
       "2019-02-01  1.0 -1.372500 -2.359344 -1.128813 -1.595902 -1.009508  \n",
       "2019-02-06  1.0 -1.372500 -0.534172 -1.128813 -1.142165 -0.814360  \n",
       "2019-10-13  1.0  1.032455 -0.041898  1.031072  0.535886 -0.379528  \n",
       "2019-07-01  1.0  0.130597  1.059463 -0.116367  0.910802  1.181336  \n",
       "...         ...       ...       ...       ...       ...       ...  \n",
       "2019-03-13  1.0 -1.071881 -0.969085 -1.016319 -1.171074 -1.063429  \n",
       "2019-04-17  1.0 -0.771261  0.160436 -0.858827 -0.530267 -0.153720  \n",
       "2019-09-28  1.0  0.731836  0.798724  0.603595  1.281830  0.738383  \n",
       "2019-12-15  1.0  1.633694 -0.824114  2.021019 -0.241950 -0.994488  \n",
       "2019-04-13  1.0 -0.771261  0.421174 -0.858827 -0.400628  0.177721  \n",
       "\n",
       "[244 rows x 13 columns]"
      ]
     },
     "execution_count": 233,
     "metadata": {},
     "output_type": "execute_result"
    }
   ],
   "source": [
    "X"
   ]
  },
  {
   "cell_type": "markdown",
   "metadata": {},
   "source": [
    "## Models"
   ]
  },
  {
   "cell_type": "markdown",
   "metadata": {},
   "source": [
    "Which model? \n",
    "- Linear Regression: check Assumptions\n",
    "- Random Forest\n",
    "- KNN Regressor"
   ]
  },
  {
   "cell_type": "code",
   "execution_count": 234,
   "metadata": {},
   "outputs": [],
   "source": [
    "y = scaling_y(y_t)"
   ]
  },
  {
   "cell_type": "markdown",
   "metadata": {},
   "source": [
    "### Linear Regression"
   ]
  },
  {
   "cell_type": "code",
   "execution_count": 255,
   "metadata": {},
   "outputs": [
    {
     "data": {
      "text/plain": [
       "<matplotlib.axes._subplots.AxesSubplot at 0x7f612e5d66d8>"
      ]
     },
     "execution_count": 255,
     "metadata": {},
     "output_type": "execute_result"
    },
    {
     "data": {
      "image/png": "[encoded data removed]",
      "text/plain": [
       "<Figure size 432x288 with 1 Axes>"
      ]
     },
     "metadata": {
      "needs_background": "light"
     },
     "output_type": "display_data"
    }
   ],
   "source": [
    "# check assumptions for linear model: \n",
    "sns.scatterplot(X[\"month\"], y[:,0])"
   ]
  },
  {
   "cell_type": "code",
   "execution_count": null,
   "metadata": {},
   "outputs": [],
   "source": [
    "# features that have a linear relationship: TAVG, dummies, x0 x1, \n",
    "# but with all of them: 10% better\n",
    "# still not very good because "
   ]
  },
  {
   "cell_type": "code",
   "execution_count": 250,
   "metadata": {},
   "outputs": [],
   "source": [
    "from sklearn.linear_model import LinearRegression\n",
    "from sklearn.metrics import mean_squared_error"
   ]
  },
  {
   "cell_type": "code",
   "execution_count": 237,
   "metadata": {},
   "outputs": [],
   "source": [
    "linreg = LinearRegression()"
   ]
  },
  {
   "cell_type": "code",
   "execution_count": 238,
   "metadata": {},
   "outputs": [
    {
     "data": {
      "text/plain": [
       "LinearRegression(copy_X=True, fit_intercept=True, n_jobs=None, normalize=False)"
      ]
     },
     "execution_count": 238,
     "metadata": {},
     "output_type": "execute_result"
    }
   ],
   "source": [
    "linreg.fit(X, y)"
   ]
  },
  {
   "cell_type": "code",
   "execution_count": 239,
   "metadata": {
    "scrolled": true
   },
   "outputs": [
    {
     "data": {
      "text/plain": [
       "0.7304412054095764"
      ]
     },
     "execution_count": 239,
     "metadata": {},
     "output_type": "execute_result"
    }
   ],
   "source": [
    "linreg.score(X, y)   # all features: 0.7304412054095764"
   ]
  },
  {
   "cell_type": "code",
   "execution_count": 249,
   "metadata": {
    "collapsed": true
   },
   "outputs": [
    {
     "data": {
      "text/plain": [
       "array([[ 0.15843935],\n",
       "       [-2.13379137],\n",
       "       [-0.28988868],\n",
       "       [-0.15721791],\n",
       "       [ 0.67216681],\n",
       "       [-0.32513428],\n",
       "       [-0.02866498],\n",
       "       [ 0.69596484],\n",
       "       [ 0.83739264],\n",
       "       [ 0.30276338],\n",
       "       [-0.64439959],\n",
       "       [ 0.36078195],\n",
       "       [ 0.14447818],\n",
       "       [-1.39090645],\n",
       "       [-1.31649368],\n",
       "       [ 0.58733076],\n",
       "       [-1.60068941],\n",
       "       [ 0.88401979],\n",
       "       [ 0.00905985],\n",
       "       [-0.28521578],\n",
       "       [ 0.1869475 ],\n",
       "       [ 0.22393005],\n",
       "       [ 0.88987142],\n",
       "       [ 0.7792027 ],\n",
       "       [ 0.6567493 ],\n",
       "       [ 0.58137751],\n",
       "       [ 0.69093617],\n",
       "       [ 0.27874639],\n",
       "       [-0.04306244],\n",
       "       [ 0.77977659],\n",
       "       [-0.04160132],\n",
       "       [ 0.74765668],\n",
       "       [-0.05270523],\n",
       "       [ 0.39333861],\n",
       "       [ 0.42236107],\n",
       "       [-0.76528415],\n",
       "       [-0.80895046],\n",
       "       [-0.38278012],\n",
       "       [ 0.73167719],\n",
       "       [ 0.78403435],\n",
       "       [-0.59333251],\n",
       "       [ 0.820151  ],\n",
       "       [ 0.48237093],\n",
       "       [ 0.18418761],\n",
       "       [-1.18981583],\n",
       "       [ 0.57454683],\n",
       "       [ 0.28560604],\n",
       "       [-0.51447963],\n",
       "       [-0.13995133],\n",
       "       [-0.53445321],\n",
       "       [ 0.83768617],\n",
       "       [-0.60503008],\n",
       "       [ 0.84431811],\n",
       "       [ 0.34056741],\n",
       "       [ 0.66877118],\n",
       "       [-0.49657339],\n",
       "       [ 0.80521158],\n",
       "       [ 0.5504051 ],\n",
       "       [ 0.7780049 ],\n",
       "       [-0.27296894],\n",
       "       [-1.63672743],\n",
       "       [ 0.86236698],\n",
       "       [ 0.18943398],\n",
       "       [ 0.62374797],\n",
       "       [ 0.72303362],\n",
       "       [ 0.92584694],\n",
       "       [ 0.8299776 ],\n",
       "       [-0.04160132],\n",
       "       [-0.89760861],\n",
       "       [-1.28720061],\n",
       "       [-1.99031967],\n",
       "       [-1.7008857 ],\n",
       "       [ 0.89568872],\n",
       "       [ 0.74354786],\n",
       "       [ 0.18406352],\n",
       "       [ 0.91420069],\n",
       "       [ 0.70332572],\n",
       "       [-0.98941634],\n",
       "       [-0.93111556],\n",
       "       [ 0.57487916],\n",
       "       [ 0.30877395],\n",
       "       [ 0.73380628],\n",
       "       [ 0.4092354 ],\n",
       "       [ 0.75394441],\n",
       "       [ 0.48626659],\n",
       "       [ 0.7812184 ],\n",
       "       [-0.60498759],\n",
       "       [ 0.76800046],\n",
       "       [ 0.09528043],\n",
       "       [ 0.35968568],\n",
       "       [-2.07846364],\n",
       "       [-0.04306244],\n",
       "       [ 0.46091064],\n",
       "       [ 0.48704939],\n",
       "       [ 0.22559973],\n",
       "       [ 0.6507621 ],\n",
       "       [ 0.6631297 ],\n",
       "       [ 0.5018847 ],\n",
       "       [ 0.77977659],\n",
       "       [-0.76926148],\n",
       "       [-1.18914022],\n",
       "       [-1.04469128],\n",
       "       [ 0.56978853],\n",
       "       [-0.28861358],\n",
       "       [ 0.73676902],\n",
       "       [-0.04584448],\n",
       "       [ 0.31483006],\n",
       "       [-2.24925169],\n",
       "       [-0.27018718],\n",
       "       [-1.43951443],\n",
       "       [ 0.69173709],\n",
       "       [ 0.70655713],\n",
       "       [ 0.80379603],\n",
       "       [ 0.74143504],\n",
       "       [ 0.74021261],\n",
       "       [ 0.82043867],\n",
       "       [ 0.07960867],\n",
       "       [-1.26587034],\n",
       "       [-0.84515391],\n",
       "       [ 0.4498151 ],\n",
       "       [ 0.35086355],\n",
       "       [ 0.30418318],\n",
       "       [ 0.8009153 ],\n",
       "       [ 0.8925728 ],\n",
       "       [ 0.749726  ],\n",
       "       [-1.15972322],\n",
       "       [-0.31868849],\n",
       "       [ 0.43231076],\n",
       "       [ 0.88635528],\n",
       "       [ 0.77994866],\n",
       "       [-1.96748975],\n",
       "       [-1.01507741],\n",
       "       [ 0.74549144],\n",
       "       [ 0.67617919],\n",
       "       [ 0.47220976],\n",
       "       [-0.83355336],\n",
       "       [ 0.73267051],\n",
       "       [-0.7518741 ],\n",
       "       [ 0.37155942],\n",
       "       [ 0.7585169 ],\n",
       "       [-0.97691254],\n",
       "       [ 0.8299776 ],\n",
       "       [ 0.85001031],\n",
       "       [ 0.62733018],\n",
       "       [ 0.18223955],\n",
       "       [-0.90315443],\n",
       "       [-1.54337239],\n",
       "       [-1.79205341],\n",
       "       [ 0.74971624],\n",
       "       [ 0.59126934],\n",
       "       [-0.41331279],\n",
       "       [-1.52686059],\n",
       "       [ 0.03184027],\n",
       "       [ 0.51911072],\n",
       "       [ 0.74971624],\n",
       "       [ 0.88298816],\n",
       "       [-0.1963067 ],\n",
       "       [ 0.1700372 ],\n",
       "       [-0.75701838],\n",
       "       [ 0.69876027],\n",
       "       [ 0.7013652 ],\n",
       "       [-0.81443508],\n",
       "       [-1.16118467],\n",
       "       [-1.80466996],\n",
       "       [ 0.73172518],\n",
       "       [-1.8941448 ],\n",
       "       [-1.54365622],\n",
       "       [ 0.2096152 ],\n",
       "       [ 0.63025372],\n",
       "       [ 0.36725815],\n",
       "       [-1.04390842],\n",
       "       [ 0.30804048],\n",
       "       [ 0.82820969],\n",
       "       [ 0.75139414],\n",
       "       [-0.43426536],\n",
       "       [ 0.5504051 ],\n",
       "       [-2.13434151],\n",
       "       [-0.57719547],\n",
       "       [ 0.76972874],\n",
       "       [ 0.00904154],\n",
       "       [ 0.92881715],\n",
       "       [-0.68292328],\n",
       "       [ 0.84782643],\n",
       "       [ 0.84732797],\n",
       "       [ 0.77479345],\n",
       "       [ 0.44731374],\n",
       "       [-0.75095257],\n",
       "       [-0.90889524],\n",
       "       [-0.89772333],\n",
       "       [-0.119583  ],\n",
       "       [ 0.83090908],\n",
       "       [-0.77251659],\n",
       "       [ 0.73369073],\n",
       "       [ 0.00612644],\n",
       "       [-0.40776552],\n",
       "       [ 0.13305051],\n",
       "       [ 0.88237949],\n",
       "       [-1.8321896 ],\n",
       "       [-0.1444193 ],\n",
       "       [ 0.24213539],\n",
       "       [ 0.59468248],\n",
       "       [ 0.27323885],\n",
       "       [-1.48072312],\n",
       "       [ 0.70172981],\n",
       "       [-0.91810238],\n",
       "       [-1.20295897],\n",
       "       [-0.63391475],\n",
       "       [ 0.16239406],\n",
       "       [-1.15616576],\n",
       "       [-1.06764279],\n",
       "       [ 0.65028643],\n",
       "       [ 0.94350202],\n",
       "       [-1.20996706],\n",
       "       [ 0.26363505],\n",
       "       [ 0.83309057],\n",
       "       [-0.744587  ],\n",
       "       [-1.09256236],\n",
       "       [ 0.85575531],\n",
       "       [ 0.78820216],\n",
       "       [-2.34957675],\n",
       "       [-1.09785268],\n",
       "       [ 0.69382738],\n",
       "       [ 0.56326106],\n",
       "       [ 0.77727848],\n",
       "       [ 0.22643125],\n",
       "       [-0.35376516],\n",
       "       [ 0.13965306],\n",
       "       [-0.08371376],\n",
       "       [ 0.62503609],\n",
       "       [ 0.74604751],\n",
       "       [ 0.8264964 ],\n",
       "       [ 0.55795942],\n",
       "       [ 0.23196112],\n",
       "       [-0.17464526],\n",
       "       [ 0.77777894],\n",
       "       [ 0.70511931],\n",
       "       [-0.66241731],\n",
       "       [-2.98220032],\n",
       "       [ 0.6866314 ],\n",
       "       [-0.24320721],\n",
       "       [ 0.54871311],\n",
       "       [ 0.7274504 ],\n",
       "       [-1.32923959],\n",
       "       [ 0.55639488]])"
      ]
     },
     "execution_count": 249,
     "metadata": {},
     "output_type": "execute_result"
    }
   ],
   "source": [
    "ypred = linreg.predict(X)\n",
    "ypred"
   ]
  },
  {
   "cell_type": "code",
   "execution_count": 251,
   "metadata": {},
   "outputs": [
    {
     "data": {
      "text/plain": [
       "0.26955879459042364"
      ]
     },
     "execution_count": 251,
     "metadata": {},
     "output_type": "execute_result"
    }
   ],
   "source": [
    "mean_squared_error(y, ypred)"
   ]
  },
  {
   "cell_type": "markdown",
   "metadata": {},
   "source": [
    "###  TEST"
   ]
  },
  {
   "cell_type": "code",
   "execution_count": 240,
   "metadata": {},
   "outputs": [],
   "source": [
    "x_test = feature_engineering(X_test)"
   ]
  },
  {
   "cell_type": "code",
   "execution_count": 241,
   "metadata": {},
   "outputs": [],
   "source": [
    "y_test = scaling_y(y_test)"
   ]
  },
  {
   "cell_type": "code",
   "execution_count": 248,
   "metadata": {},
   "outputs": [
    {
     "data": {
      "text/plain": [
       "0.6374280164400226"
      ]
     },
     "execution_count": 248,
     "metadata": {},
     "output_type": "execute_result"
    }
   ],
   "source": [
    "# test-accuracy\n",
    "linreg.score(x_test, y_test)"
   ]
  },
  {
   "cell_type": "code",
   "execution_count": 253,
   "metadata": {},
   "outputs": [],
   "source": [
    "yt_pred = linreg.predict(x_test)"
   ]
  },
  {
   "cell_type": "code",
   "execution_count": 254,
   "metadata": {},
   "outputs": [
    {
     "data": {
      "text/plain": [
       "0.3625719835599775"
      ]
     },
     "execution_count": 254,
     "metadata": {},
     "output_type": "execute_result"
    }
   ],
   "source": [
    "mean_squared_error(y_test, yt_pred)"
   ]
  },
  {
   "cell_type": "markdown",
   "metadata": {},
   "source": [
    "## KNN-Regressor"
   ]
  },
  {
   "cell_type": "code",
   "execution_count": null,
   "metadata": {},
   "outputs": [],
   "source": []
  },
  {
   "cell_type": "code",
   "execution_count": null,
   "metadata": {},
   "outputs": [],
   "source": []
  },
  {
   "cell_type": "markdown",
   "metadata": {},
   "source": [
    "## Random Forest"
   ]
  },
  {
   "cell_type": "code",
   "execution_count": 67,
   "metadata": {},
   "outputs": [],
   "source": [
    "from sklearn.ensemble import RandomForestRegressor"
   ]
  },
  {
   "cell_type": "code",
   "execution_count": 101,
   "metadata": {},
   "outputs": [],
   "source": [
    "rf = RandomForestRegressor(max_depth=5)"
   ]
  },
  {
   "cell_type": "code",
   "execution_count": 134,
   "metadata": {},
   "outputs": [
    {
     "data": {
      "text/plain": [
       "0.8538172983162207"
      ]
     },
     "execution_count": 134,
     "metadata": {},
     "output_type": "execute_result"
    }
   ],
   "source": [
    "rf.fit(X, y_train)  \n",
    "# training accuracy:\n",
    "rf.score(X, y_train.values.ravel())"
   ]
  },
  {
   "cell_type": "code",
   "execution_count": 135,
   "metadata": {},
   "outputs": [
    {
     "data": {
      "text/plain": [
       "0.6077591994535917"
      ]
     },
     "execution_count": 135,
     "metadata": {},
     "output_type": "execute_result"
    }
   ],
   "source": [
    "#test accuracy\n",
    "rf.score(x_test, y_test)"
   ]
  },
  {
   "cell_type": "code",
   "execution_count": null,
   "metadata": {},
   "outputs": [],
   "source": []
  },
  {
   "cell_type": "code",
   "execution_count": null,
   "metadata": {},
   "outputs": [],
   "source": []
  },
  {
   "cell_type": "code",
   "execution_count": null,
   "metadata": {},
   "outputs": [],
   "source": []
  },
  {
   "cell_type": "code",
   "execution_count": null,
   "metadata": {},
   "outputs": [],
   "source": []
  },
  {
   "cell_type": "code",
   "execution_count": null,
   "metadata": {},
   "outputs": [],
   "source": [
    "## Regularization"
   ]
  },
  {
   "cell_type": "code",
   "execution_count": null,
   "metadata": {},
   "outputs": [],
   "source": []
  },
  {
   "cell_type": "code",
   "execution_count": null,
   "metadata": {},
   "outputs": [],
   "source": [
    "## Hyperparameter Optimization"
   ]
  },
  {
   "cell_type": "code",
   "execution_count": null,
   "metadata": {},
   "outputs": [],
   "source": [
    "#split train/test set\n",
    "from sklearn.model_selection import train_test_split"
   ]
  },
  {
   "cell_type": "code",
   "execution_count": null,
   "metadata": {},
   "outputs": [],
   "source": [
    "Xtrain_forest, Xtest_forest, ytrain_forest, ytest_forest = train_test_split(Xtrain, ytrain, test_size=0.3, random_state=42)\n",
    "Xtrain_forest.shape, ytrain_forest.shape"
   ]
  },
  {
   "cell_type": "code",
   "execution_count": null,
   "metadata": {},
   "outputs": [],
   "source": [
    "from sklearn.model_selection import GridSearchCV"
   ]
  },
  {
   "cell_type": "code",
   "execution_count": null,
   "metadata": {},
   "outputs": [],
   "source": [
    "param_grid = {\n",
    "    'max_depth': [6, 8, 16],\n",
    "    'n_estimators': [10, 100, 200]\n",
    "}\n",
    "param_grid"
   ]
  },
  {
   "cell_type": "code",
   "execution_count": null,
   "metadata": {},
   "outputs": [],
   "source": [
    "cv = GridSearchCV(rf, param_grid, \n",
    "                  return_train_score=True,\n",
    "                  cv=2, n_jobs=4)\n",
    "\n",
    "forest=cv.fit(Xtrain_forest, ytrain_forest)\n",
    "\n",
    "ypred_forest=forest.predict(Xtest_forest)\n",
    "forest.score(Xtest_forest,ytest_forest)"
   ]
  },
  {
   "cell_type": "code",
   "execution_count": null,
   "metadata": {},
   "outputs": [],
   "source": [
    "cv.best_estimator_"
   ]
  },
  {
   "cell_type": "code",
   "execution_count": null,
   "metadata": {},
   "outputs": [],
   "source": []
  },
  {
   "cell_type": "code",
   "execution_count": null,
   "metadata": {},
   "outputs": [],
   "source": []
  },
  {
   "cell_type": "code",
   "execution_count": null,
   "metadata": {},
   "outputs": [],
   "source": []
  },
  {
   "cell_type": "code",
   "execution_count": null,
   "metadata": {},
   "outputs": [],
   "source": []
  },
  {
   "cell_type": "code",
   "execution_count": null,
   "metadata": {},
   "outputs": [],
   "source": []
  },
  {
   "cell_type": "code",
   "execution_count": null,
   "metadata": {},
   "outputs": [],
   "source": []
  },
  {
   "cell_type": "code",
   "execution_count": null,
   "metadata": {},
   "outputs": [],
   "source": [
    "# After getting good models: retrain them on ALL data! "
   ]
  },
  {
   "cell_type": "code",
   "execution_count": null,
   "metadata": {},
   "outputs": [],
   "source": []
  }
 ],
 "metadata": {
  "kernelspec": {
   "display_name": "Python 3",
   "language": "python",
   "name": "python3"
  },
  "language_info": {
   "codemirror_mode": {
    "name": "ipython",
    "version": 3
   },
   "file_extension": ".py",
   "mimetype": "text/x-python",
   "name": "python",
   "nbconvert_exporter": "python",
   "pygments_lexer": "ipython3",
   "version": "3.6.10"
  }
 },
 "nbformat": 4,
 "nbformat_minor": 4
}
