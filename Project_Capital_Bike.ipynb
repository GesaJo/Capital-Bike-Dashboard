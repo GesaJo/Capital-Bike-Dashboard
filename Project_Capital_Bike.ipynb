{
 "cells": [
  {
   "cell_type": "markdown",
   "metadata": {},
   "source": [
    "# Project: Capital Bike"
   ]
  },
  {
   "cell_type": "code",
   "execution_count": 1,
   "metadata": {},
   "outputs": [],
   "source": [
    "import pandas as pd\n",
    "import matplotlib.pyplot as plt\n",
    "import seaborn as sns\n",
    "import numpy as np\n",
    "\n",
    "%matplotlib inline"
   ]
  },
  {
   "cell_type": "markdown",
   "metadata": {},
   "source": [
    "## Get Data"
   ]
  },
  {
   "cell_type": "code",
   "execution_count": 27,
   "metadata": {},
   "outputs": [],
   "source": [
    "year19 = [\"01\", \"02\", \"03\", \"04\", \"05\", \"06\", \"07\", \"08\", \"09\", \"10\", \"11\", \"12\"]"
   ]
  },
  {
   "cell_type": "code",
   "execution_count": 28,
   "metadata": {},
   "outputs": [],
   "source": [
    "df_years = pd.DataFrame()\n",
    "for year in year19: \n",
    "    df_year = pd.read_csv(f\"../data/2019{year}.csv\", parse_dates=True)\n",
    "    df_years  = df_years.append(df_year)"
   ]
  },
  {
   "cell_type": "code",
   "execution_count": 29,
   "metadata": {},
   "outputs": [],
   "source": [
    "year18 = [\"01\", \"02\", \"03\", \"04\", \"05\", \"06\", \"07\", \"08\", \"09\", \"10\", \"11\", \"12\"]"
   ]
  },
  {
   "cell_type": "code",
   "execution_count": 30,
   "metadata": {},
   "outputs": [],
   "source": [
    "df_18 = pd.DataFrame()\n",
    "for year in year18: \n",
    "    df_y = pd.read_csv(f\"../data/2018/2018{year}.csv\", parse_dates=True)\n",
    "    df_18  = df_18.append(df_y)"
   ]
  },
  {
   "cell_type": "code",
   "execution_count": 31,
   "metadata": {},
   "outputs": [],
   "source": [
    "year20 = [\"1\", \"2\", \"3\",]"
   ]
  },
  {
   "cell_type": "code",
   "execution_count": 32,
   "metadata": {},
   "outputs": [],
   "source": [
    "df_20 = pd.DataFrame()\n",
    "for year in year20: \n",
    "    df_y = pd.read_csv(f\"../data/2020/2020{year}.csv\", parse_dates=True)\n",
    "    df_20  = df_20.append(df_y)"
   ]
  },
  {
   "cell_type": "code",
   "execution_count": 33,
   "metadata": {},
   "outputs": [],
   "source": [
    "df2 = df_18.append(df_years, sort=False)"
   ]
  },
  {
   "cell_type": "code",
   "execution_count": 35,
   "metadata": {},
   "outputs": [],
   "source": [
    "df = df2.append(df_20)"
   ]
  },
  {
   "cell_type": "code",
   "execution_count": 36,
   "metadata": {},
   "outputs": [
    {
     "data": {
      "text/html": [
       "<div>\n",
       "<style scoped>\n",
       "    .dataframe tbody tr th:only-of-type {\n",
       "        vertical-align: middle;\n",
       "    }\n",
       "\n",
       "    .dataframe tbody tr th {\n",
       "        vertical-align: top;\n",
       "    }\n",
       "\n",
       "    .dataframe thead th {\n",
       "        text-align: right;\n",
       "    }\n",
       "</style>\n",
       "<table border=\"1\" class=\"dataframe\">\n",
       "  <thead>\n",
       "    <tr style=\"text-align: right;\">\n",
       "      <th></th>\n",
       "      <th>Duration</th>\n",
       "      <th>Start date</th>\n",
       "      <th>End date</th>\n",
       "      <th>Start station number</th>\n",
       "      <th>Start station</th>\n",
       "      <th>End station number</th>\n",
       "      <th>End station</th>\n",
       "      <th>Bike number</th>\n",
       "      <th>Member type</th>\n",
       "    </tr>\n",
       "  </thead>\n",
       "  <tbody>\n",
       "    <tr>\n",
       "      <th>0</th>\n",
       "      <td>552</td>\n",
       "      <td>2018-01-01 00:05:06</td>\n",
       "      <td>2018-01-01 00:14:18</td>\n",
       "      <td>31104</td>\n",
       "      <td>Adams Mill &amp; Columbia Rd NW</td>\n",
       "      <td>31400</td>\n",
       "      <td>Georgia &amp; New Hampshire Ave NW</td>\n",
       "      <td>W00886</td>\n",
       "      <td>Member</td>\n",
       "    </tr>\n",
       "    <tr>\n",
       "      <th>1</th>\n",
       "      <td>1282</td>\n",
       "      <td>2018-01-01 00:14:30</td>\n",
       "      <td>2018-01-01 00:35:53</td>\n",
       "      <td>31321</td>\n",
       "      <td>15th St &amp; Constitution Ave NW</td>\n",
       "      <td>31321</td>\n",
       "      <td>15th St &amp; Constitution Ave NW</td>\n",
       "      <td>W01435</td>\n",
       "      <td>Casual</td>\n",
       "    </tr>\n",
       "    <tr>\n",
       "      <th>2</th>\n",
       "      <td>1265</td>\n",
       "      <td>2018-01-01 00:14:53</td>\n",
       "      <td>2018-01-01 00:35:58</td>\n",
       "      <td>31321</td>\n",
       "      <td>15th St &amp; Constitution Ave NW</td>\n",
       "      <td>31321</td>\n",
       "      <td>15th St &amp; Constitution Ave NW</td>\n",
       "      <td>W21242</td>\n",
       "      <td>Casual</td>\n",
       "    </tr>\n",
       "    <tr>\n",
       "      <th>3</th>\n",
       "      <td>578</td>\n",
       "      <td>2018-01-01 00:15:31</td>\n",
       "      <td>2018-01-01 00:25:09</td>\n",
       "      <td>31406</td>\n",
       "      <td>14th &amp; Upshur St NW</td>\n",
       "      <td>31103</td>\n",
       "      <td>16th &amp; Harvard St NW</td>\n",
       "      <td>W21322</td>\n",
       "      <td>Casual</td>\n",
       "    </tr>\n",
       "    <tr>\n",
       "      <th>4</th>\n",
       "      <td>372</td>\n",
       "      <td>2018-01-01 00:18:02</td>\n",
       "      <td>2018-01-01 00:24:15</td>\n",
       "      <td>31618</td>\n",
       "      <td>4th &amp; East Capitol St NE</td>\n",
       "      <td>31619</td>\n",
       "      <td>Lincoln Park / 13th &amp; East Capitol St NE</td>\n",
       "      <td>W00119</td>\n",
       "      <td>Member</td>\n",
       "    </tr>\n",
       "    <tr>\n",
       "      <th>...</th>\n",
       "      <td>...</td>\n",
       "      <td>...</td>\n",
       "      <td>...</td>\n",
       "      <td>...</td>\n",
       "      <td>...</td>\n",
       "      <td>...</td>\n",
       "      <td>...</td>\n",
       "      <td>...</td>\n",
       "      <td>...</td>\n",
       "    </tr>\n",
       "    <tr>\n",
       "      <th>162525</th>\n",
       "      <td>673</td>\n",
       "      <td>2020-03-31 23:17:58</td>\n",
       "      <td>2020-03-31 23:29:12</td>\n",
       "      <td>31235</td>\n",
       "      <td>19th St &amp; Constitution Ave NW</td>\n",
       "      <td>31265</td>\n",
       "      <td>5th St &amp; Massachusetts Ave NW</td>\n",
       "      <td>W22920</td>\n",
       "      <td>Member</td>\n",
       "    </tr>\n",
       "    <tr>\n",
       "      <th>162526</th>\n",
       "      <td>514</td>\n",
       "      <td>2020-03-31 23:18:13</td>\n",
       "      <td>2020-03-31 23:26:47</td>\n",
       "      <td>31203</td>\n",
       "      <td>14th &amp; Rhode Island Ave NW</td>\n",
       "      <td>31324</td>\n",
       "      <td>18th &amp; New Hampshire Ave NW</td>\n",
       "      <td>21054</td>\n",
       "      <td>Member</td>\n",
       "    </tr>\n",
       "    <tr>\n",
       "      <th>162527</th>\n",
       "      <td>1524</td>\n",
       "      <td>2020-03-31 23:29:00</td>\n",
       "      <td>2020-03-31 23:54:25</td>\n",
       "      <td>31110</td>\n",
       "      <td>20th St &amp; Florida Ave NW</td>\n",
       "      <td>31403</td>\n",
       "      <td>5th &amp; Kennedy St NW</td>\n",
       "      <td>W24341</td>\n",
       "      <td>Member</td>\n",
       "    </tr>\n",
       "    <tr>\n",
       "      <th>162528</th>\n",
       "      <td>565</td>\n",
       "      <td>2020-03-31 23:41:17</td>\n",
       "      <td>2020-03-31 23:50:43</td>\n",
       "      <td>31603</td>\n",
       "      <td>1st &amp; M St NE</td>\n",
       "      <td>31256</td>\n",
       "      <td>10th &amp; E St NW</td>\n",
       "      <td>W22691</td>\n",
       "      <td>Member</td>\n",
       "    </tr>\n",
       "    <tr>\n",
       "      <th>162529</th>\n",
       "      <td>1054</td>\n",
       "      <td>2020-03-31 23:45:05</td>\n",
       "      <td>2020-04-01 00:02:40</td>\n",
       "      <td>31325</td>\n",
       "      <td>Reservoir Rd &amp; 38th St NW</td>\n",
       "      <td>31214</td>\n",
       "      <td>17th &amp; Corcoran St NW</td>\n",
       "      <td>W24051</td>\n",
       "      <td>Member</td>\n",
       "    </tr>\n",
       "  </tbody>\n",
       "</table>\n",
       "<p>7478501 rows × 9 columns</p>\n",
       "</div>"
      ],
      "text/plain": [
       "        Duration           Start date             End date  \\\n",
       "0            552  2018-01-01 00:05:06  2018-01-01 00:14:18   \n",
       "1           1282  2018-01-01 00:14:30  2018-01-01 00:35:53   \n",
       "2           1265  2018-01-01 00:14:53  2018-01-01 00:35:58   \n",
       "3            578  2018-01-01 00:15:31  2018-01-01 00:25:09   \n",
       "4            372  2018-01-01 00:18:02  2018-01-01 00:24:15   \n",
       "...          ...                  ...                  ...   \n",
       "162525       673  2020-03-31 23:17:58  2020-03-31 23:29:12   \n",
       "162526       514  2020-03-31 23:18:13  2020-03-31 23:26:47   \n",
       "162527      1524  2020-03-31 23:29:00  2020-03-31 23:54:25   \n",
       "162528       565  2020-03-31 23:41:17  2020-03-31 23:50:43   \n",
       "162529      1054  2020-03-31 23:45:05  2020-04-01 00:02:40   \n",
       "\n",
       "        Start station number                  Start station  \\\n",
       "0                      31104    Adams Mill & Columbia Rd NW   \n",
       "1                      31321  15th St & Constitution Ave NW   \n",
       "2                      31321  15th St & Constitution Ave NW   \n",
       "3                      31406            14th & Upshur St NW   \n",
       "4                      31618       4th & East Capitol St NE   \n",
       "...                      ...                            ...   \n",
       "162525                 31235  19th St & Constitution Ave NW   \n",
       "162526                 31203     14th & Rhode Island Ave NW   \n",
       "162527                 31110       20th St & Florida Ave NW   \n",
       "162528                 31603                  1st & M St NE   \n",
       "162529                 31325      Reservoir Rd & 38th St NW   \n",
       "\n",
       "        End station number                                End station  \\\n",
       "0                    31400             Georgia & New Hampshire Ave NW   \n",
       "1                    31321              15th St & Constitution Ave NW   \n",
       "2                    31321              15th St & Constitution Ave NW   \n",
       "3                    31103                       16th & Harvard St NW   \n",
       "4                    31619  Lincoln Park / 13th & East Capitol St NE    \n",
       "...                    ...                                        ...   \n",
       "162525               31265              5th St & Massachusetts Ave NW   \n",
       "162526               31324                18th & New Hampshire Ave NW   \n",
       "162527               31403                        5th & Kennedy St NW   \n",
       "162528               31256                             10th & E St NW   \n",
       "162529               31214                      17th & Corcoran St NW   \n",
       "\n",
       "       Bike number Member type  \n",
       "0           W00886      Member  \n",
       "1           W01435      Casual  \n",
       "2           W21242      Casual  \n",
       "3           W21322      Casual  \n",
       "4           W00119      Member  \n",
       "...            ...         ...  \n",
       "162525      W22920      Member  \n",
       "162526       21054      Member  \n",
       "162527      W24341      Member  \n",
       "162528      W22691      Member  \n",
       "162529      W24051      Member  \n",
       "\n",
       "[7478501 rows x 9 columns]"
      ]
     },
     "execution_count": 36,
     "metadata": {},
     "output_type": "execute_result"
    }
   ],
   "source": [
    "df"
   ]
  },
  {
   "cell_type": "code",
   "execution_count": null,
   "metadata": {},
   "outputs": [],
   "source": []
  },
  {
   "cell_type": "code",
   "execution_count": null,
   "metadata": {},
   "outputs": [],
   "source": [
    "df_locations = pd.read_csv(\"../data/Capital_Bike_Share_Locations.csv\")"
   ]
  },
  {
   "cell_type": "code",
   "execution_count": null,
   "metadata": {},
   "outputs": [],
   "source": [
    "df_loc = df_locations[[\"ADDRESS\", \"TERMINAL_NUMBER\", \"LATITUDE\", \"LONGITUDE\"]].copy()"
   ]
  },
  {
   "cell_type": "code",
   "execution_count": null,
   "metadata": {},
   "outputs": [],
   "source": [
    "##df_loc.to_csv(\"data/df_loc.csv\")"
   ]
  },
  {
   "cell_type": "code",
   "execution_count": null,
   "metadata": {},
   "outputs": [],
   "source": [
    "## weather data\n",
    "df_weather = pd.read_csv(\"../data/weather.csv\")"
   ]
  },
  {
   "cell_type": "markdown",
   "metadata": {},
   "source": [
    "## EDA & Feature Engineering"
   ]
  },
  {
   "cell_type": "markdown",
   "metadata": {},
   "source": [
    "- instant: Record index<br>\n",
    "- dteday: Date<br>\n",
    "- season: Season (1:springer, 2:summer, 3:fall, 4:winter)<br>\n",
    "- yr: Year (0: 2011, 1:2012)<br>\n",
    "- mnth: Month (1 to 12)<br>\n",
    "- hr: Hour (0 to 23)<br>\n",
    "- holiday: wether day is holiday or not (extracted from Holiday Schedule)<br>\n",
    "- weekday: Day of the week<br>\n",
    "- workingday: If day is neither weekend nor holiday is 1, otherwise is 0.<br>\n",
    "- weathersit: (extracted from Freemeteo)\n",
    "1: Clear, Few clouds, Partly cloudy, Partly cloudy\n",
    "2: Mist + Cloudy, Mist + Broken clouds, Mist + Few clouds, Mist\n",
    "3: Light Snow, Light Rain + Thunderstorm + Scattered clouds, Light Rain + Scattered clouds\n",
    "4: Heavy Rain + Ice Pallets + Thunderstorm + Mist, Snow + Fog<br>\n",
    "- temp: Normalized temperature in Celsius. The values are derived via (t-tmin)/(tmax-tmin), tmin=-8, t_max=+39 (only in hourly scale)<br>\n",
    "- atemp: Normalized feeling temperature in Celsius. The values are derived via (t-tmin)/(tmax-tmin), tmin=-16, t_max=+50 (only in hourly scale)<br>\n",
    "- hum: Normalized humidity. The values are divided to 100 (max)<br>\n",
    "- windspeed: Normalized wind speed. The values are divided to 67 (max)<br>\n",
    "- casual: count of casual users<br>\n",
    "- registered: count of registered users<br>\n",
    "- cnt: count of total rental bikes including both casual and registered"
   ]
  },
  {
   "cell_type": "code",
   "execution_count": 37,
   "metadata": {
    "scrolled": true
   },
   "outputs": [
    {
     "data": {
      "text/plain": [
       "Duration                 0\n",
       "Start date               0\n",
       "End date                 0\n",
       "Start station number     0\n",
       "Start station            0\n",
       "End station number       0\n",
       "End station              0\n",
       "Bike number             14\n",
       "Member type              0\n",
       "dtype: int64"
      ]
     },
     "execution_count": 37,
     "metadata": {},
     "output_type": "execute_result"
    }
   ],
   "source": [
    "df.isnull().sum()  #-> missing data only for \"bike-number\""
   ]
  },
  {
   "cell_type": "code",
   "execution_count": 38,
   "metadata": {},
   "outputs": [],
   "source": [
    "df[\"Start date\"] = pd.to_datetime(df[\"Start date\"])"
   ]
  },
  {
   "cell_type": "markdown",
   "metadata": {},
   "source": [
    "### Map"
   ]
  },
  {
   "cell_type": "code",
   "execution_count": 41,
   "metadata": {},
   "outputs": [],
   "source": [
    "df[\"year\"] = df[\"Start date\"].apply(lambda x: x.year)"
   ]
  },
  {
   "cell_type": "code",
   "execution_count": 14,
   "metadata": {},
   "outputs": [],
   "source": [
    "df[\"month\"] = df[\"Start date\"].apply(lambda x: x.month)"
   ]
  },
  {
   "cell_type": "code",
   "execution_count": null,
   "metadata": {},
   "outputs": [],
   "source": [
    "df[\"day\"] = df[\"Start date\"].apply(lambda x: x.date())"
   ]
  },
  {
   "cell_type": "code",
   "execution_count": null,
   "metadata": {},
   "outputs": [],
   "source": [
    "df[\"hour\"] = df[\"Start date\"].apply(lambda x: x.hour)"
   ]
  },
  {
   "cell_type": "markdown",
   "metadata": {},
   "source": [
    "## most used station"
   ]
  },
  {
   "cell_type": "code",
   "execution_count": null,
   "metadata": {},
   "outputs": [],
   "source": [
    "#df[df[\"month\"]==12].groupby(\"Start station number\").count()[\"Start station\"].sort_values()[-1:].index[0]  #.iloc[0]"
   ]
  },
  {
   "cell_type": "code",
   "execution_count": null,
   "metadata": {},
   "outputs": [],
   "source": [
    "#df_loc[df_loc[\"TERMINAL_NUMBER\"] == no][\"ADDRESS\"].iloc[0]"
   ]
  },
  {
   "cell_type": "markdown",
   "metadata": {},
   "source": [
    "## from station to station"
   ]
  },
  {
   "cell_type": "code",
   "execution_count": null,
   "metadata": {},
   "outputs": [],
   "source": [
    "df_stations = df.groupby([\"Start station\", \"End station\"]).count()"
   ]
  },
  {
   "cell_type": "code",
   "execution_count": null,
   "metadata": {},
   "outputs": [],
   "source": [
    "df_stations.reset_index(inplace=True) "
   ]
  },
  {
   "cell_type": "code",
   "execution_count": null,
   "metadata": {},
   "outputs": [],
   "source": [
    "df_stations = df_stations[df_stations[\"Duration\"]>2500]"
   ]
  },
  {
   "cell_type": "code",
   "execution_count": null,
   "metadata": {},
   "outputs": [],
   "source": [
    "df_stations[[\"Start station\", \"End station\", \"Duration\"]].to_csv(\"data/df_stations.csv\")"
   ]
  },
  {
   "cell_type": "markdown",
   "metadata": {},
   "source": [
    "## Weekdays and Weekend"
   ]
  },
  {
   "cell_type": "code",
   "execution_count": null,
   "metadata": {
    "scrolled": true
   },
   "outputs": [],
   "source": [
    "df['weekday'] = df[\"Start date\"].apply(lambda x: x.weekday())"
   ]
  },
  {
   "cell_type": "code",
   "execution_count": null,
   "metadata": {},
   "outputs": [],
   "source": [
    "df[\"weekday\"] = df[\"weekday\"].map({0:\"Monday\", 1: \"Tuesday\", 2: \"Wednesday\", 3: \"Thursday\", 4: \"Friday\", 5: \"Saturday\", 6: \"Sunday\"})"
   ]
  },
  {
   "cell_type": "code",
   "execution_count": null,
   "metadata": {},
   "outputs": [],
   "source": [
    "#check:\n",
    "df[df[\"day\"] == pd.to_datetime(\"2019-4-2\").date()]  #should be Tuesday"
   ]
  },
  {
   "cell_type": "code",
   "execution_count": null,
   "metadata": {},
   "outputs": [],
   "source": []
  },
  {
   "cell_type": "markdown",
   "metadata": {},
   "source": [
    "## Rush hour, night, day"
   ]
  },
  {
   "cell_type": "code",
   "execution_count": null,
   "metadata": {},
   "outputs": [],
   "source": [
    "df.groupby(\"hour\").count().index"
   ]
  },
  {
   "cell_type": "code",
   "execution_count": null,
   "metadata": {},
   "outputs": [],
   "source": [
    "sns.barplot(df.groupby(\"hour\").count().index, df.groupby(\"hour\").count()[\"Duration\"])"
   ]
  },
  {
   "cell_type": "code",
   "execution_count": null,
   "metadata": {},
   "outputs": [],
   "source": [
    "d = {0:'night', 1:'night', 2:'night', 3:'night', 4:'night', 5:'night', 6:'night', 7:'day', 8:'rush', 9:'day', 10:'day', 11:'day', 12:'day', 13:'day', 14:'day', 15:'day', 16:'day', 17:'rush', 18:'rush', 19:'day', 20:'day', 21:'day', 22:'night', 23:'night'}\n",
    "df['hour_binned'] = df['hour'].map(d)"
   ]
  },
  {
   "cell_type": "code",
   "execution_count": null,
   "metadata": {},
   "outputs": [],
   "source": [
    "sns.barplot(df.groupby(\"hour_binned\").count().index, df.groupby(\"hour_binned\").count()[\"Duration\"], palette=\"GnBu_d\")"
   ]
  },
  {
   "cell_type": "code",
   "execution_count": null,
   "metadata": {},
   "outputs": [],
   "source": []
  },
  {
   "cell_type": "markdown",
   "metadata": {},
   "source": [
    "### For linegraph hour, weekday"
   ]
  },
  {
   "cell_type": "code",
   "execution_count": null,
   "metadata": {},
   "outputs": [],
   "source": [
    "df[\"date_by_hour\"] = df[\"Start date\"].apply(lambda x: x.replace(microsecond=0, second=0, minute=0))"
   ]
  },
  {
   "cell_type": "code",
   "execution_count": null,
   "metadata": {},
   "outputs": [],
   "source": [
    "df_count = df.groupby(\"date_by_hour\").count().reset_index()"
   ]
  },
  {
   "cell_type": "code",
   "execution_count": null,
   "metadata": {},
   "outputs": [],
   "source": [
    "df_count[\"weekday\"] = df_count[\"date_by_hour\"].apply(lambda x: x.weekday())"
   ]
  },
  {
   "cell_type": "code",
   "execution_count": null,
   "metadata": {},
   "outputs": [],
   "source": [
    "df_count[\"weekday\"] = df_count[\"weekday\"].map({0:\"Monday\", 1: \"Tuesday\", 2: \"Wednesday\", 3: \"Thursday\", 4: \"Friday\", 5: \"Saturday\", 6: \"Sunday\"})"
   ]
  },
  {
   "cell_type": "code",
   "execution_count": null,
   "metadata": {},
   "outputs": [],
   "source": [
    "df_count[\"hour\"] = df_count[\"date_by_hour\"].apply(lambda x: x.hour)"
   ]
  },
  {
   "cell_type": "code",
   "execution_count": null,
   "metadata": {
    "scrolled": true
   },
   "outputs": [],
   "source": [
    "df_count = df_count[[\"hour\", \"Duration\", \"weekday\"]]"
   ]
  },
  {
   "cell_type": "code",
   "execution_count": null,
   "metadata": {},
   "outputs": [],
   "source": [
    "#df_count.to_csv(\"data/df_weekday.csv\")"
   ]
  },
  {
   "cell_type": "code",
   "execution_count": null,
   "metadata": {},
   "outputs": [],
   "source": [
    "# hour of the day and weekday\n",
    "fig, ax = plt.subplots(figsize=(12,8))\n",
    "sns.lineplot(df_count[\"hour\"], df_count[\"Duration\"], hue=df_count[\"weekday\"], ci=None)"
   ]
  },
  {
   "cell_type": "code",
   "execution_count": null,
   "metadata": {},
   "outputs": [],
   "source": []
  },
  {
   "cell_type": "code",
   "execution_count": null,
   "metadata": {},
   "outputs": [],
   "source": []
  },
  {
   "cell_type": "markdown",
   "metadata": {},
   "source": [
    "## weather"
   ]
  },
  {
   "cell_type": "markdown",
   "metadata": {},
   "source": [
    "- PRCP = Precipitation (mm or inches as per user preference, inches to hundredths on Daily Form pdf file)\n",
    "- SNOW = Snowfall (mm or inches as per user preference, inches to tenths on Daily Form pdf file)\n",
    "- SNWD = Snow depth (mm or inches as per user preference, inches on Daily Form pdf file)\n",
    "- TAVG = Average Temperature in Fahrenheit\n",
    "- AWND = Average daily wind speed (meters per second)\n",
    "- WT** = Weather Type where ** has one of the following values: \n",
    " 01 = Fog, ice fog, or freezing fog (may include heavy fog)\n",
    " 02 = Heavy fog or heaving freezing fog (not always\n",
    " distinguished from fog)\n",
    " 03 = Thunder\n",
    " 04 = Ice pellets, sleet, snow pellets, or small hail\n",
    " 05 = Hail (may include small hail)\n",
    " 06 = Glaze or rime\n",
    " 08 = Smoke or haze\n",
    " 09 = Blowing or drifting snow\n",
    " In Sum:  bad weather = fog, thunder, hail, glaze, rime, smoke, drifting snow"
   ]
  },
  {
   "cell_type": "code",
   "execution_count": null,
   "metadata": {},
   "outputs": [],
   "source": [
    "df_w = df_weather[df_weather[\"NAME\"].str.match('WASHINGTON')]"
   ]
  },
  {
   "cell_type": "code",
   "execution_count": null,
   "metadata": {},
   "outputs": [],
   "source": [
    "df_wd = df_w.groupby(\"DATE\").mean()"
   ]
  },
  {
   "cell_type": "code",
   "execution_count": null,
   "metadata": {},
   "outputs": [],
   "source": [
    "df_wd.drop([\"WT11\"], axis=1, inplace=True)"
   ]
  },
  {
   "cell_type": "code",
   "execution_count": null,
   "metadata": {},
   "outputs": [],
   "source": [
    "df_wt = df_wd.iloc[:,5:13].fillna(0)"
   ]
  },
  {
   "cell_type": "code",
   "execution_count": null,
   "metadata": {},
   "outputs": [],
   "source": [
    "df_wd[\"bad_weather\"] = df_wt[\"WT01\"]+df_wt[\"WT02\"]+df_wt[\"WT03\"]+df_wt[\"WT04\"]+df_wt[\"WT05\"]+df_wt[\"WT06\"]+df_wt[\"WT08\"]+df_wt[\"WT09\"]\n"
   ]
  },
  {
   "cell_type": "code",
   "execution_count": null,
   "metadata": {},
   "outputs": [],
   "source": [
    "df_wd = df_wd[[\"AWND\", \"PRCP\", \"TAVG\"]]"
   ]
  },
  {
   "cell_type": "code",
   "execution_count": null,
   "metadata": {},
   "outputs": [],
   "source": [
    "# convert Fahrenheit to celsius:\n",
    "df_wd[\"TAVG\"] = df_wd[\"TAVG\"].apply(lambda x: round(((x-32)*(5/9)),2))"
   ]
  },
  {
   "cell_type": "code",
   "execution_count": null,
   "metadata": {},
   "outputs": [],
   "source": [
    "df_wd.reset_index(inplace=True) "
   ]
  },
  {
   "cell_type": "code",
   "execution_count": null,
   "metadata": {},
   "outputs": [],
   "source": [
    "df_wd = df_wd.rename(columns={\"DATE\": \"day\"})"
   ]
  },
  {
   "cell_type": "code",
   "execution_count": null,
   "metadata": {},
   "outputs": [],
   "source": [
    "df_wd[\"day\"] = df_wd[\"day\"].apply(lambda x: pd.to_datetime(x).date())"
   ]
  },
  {
   "cell_type": "code",
   "execution_count": null,
   "metadata": {},
   "outputs": [],
   "source": [
    "#df_wd.to_csv(\"data/df_weather.csv\")"
   ]
  },
  {
   "cell_type": "code",
   "execution_count": null,
   "metadata": {},
   "outputs": [],
   "source": [
    "#df_wd[\"weekday\"] = df_wd[\"day\"].apply(lambda x: x.weekday())"
   ]
  },
  {
   "cell_type": "code",
   "execution_count": null,
   "metadata": {},
   "outputs": [],
   "source": [
    "df_wd"
   ]
  },
  {
   "cell_type": "code",
   "execution_count": null,
   "metadata": {
    "scrolled": true
   },
   "outputs": [],
   "source": [
    "df_plus = pd.merge(df, df_wd, how=\"left\", on=\"day\")"
   ]
  },
  {
   "cell_type": "code",
   "execution_count": null,
   "metadata": {},
   "outputs": [],
   "source": [
    "#fig = go.Figure(data=go.Scatter(\n",
    " #   x=df.groupby(\"day\").mean().index,\n",
    "  #  y=df.groupby(\"day\").count()[\"Duration\"]\n",
    "   # ,\n",
    "    #mode='markers',\n",
    "   # marker=dict(\n",
    "    #            color= df_plus.groupby(\"day\").mean()[\"bad_weather\"],  \n",
    "     #           colorscale=\"matter\",\n",
    "      #          showscale=True,\n",
    "       #             )#\n",
    "#))\n",
    "\n",
    "#fig.show()\n",
    "#PRCP: colorscale = Darkmint\n",
    "#TAVG: colorscale: BlueRed\n",
    "# SNOW: colorscale = Magenta\n",
    "# AWND : colorscale = Blugrn\n",
    "# bad weather: colorscale: matter"
   ]
  },
  {
   "cell_type": "code",
   "execution_count": null,
   "metadata": {},
   "outputs": [],
   "source": [
    "df_plus.tail(50)"
   ]
  },
  {
   "cell_type": "code",
   "execution_count": null,
   "metadata": {
    "scrolled": true
   },
   "outputs": [],
   "source": [
    "sns.distplot(df_plus[\"Duration\"])"
   ]
  },
  {
   "cell_type": "code",
   "execution_count": null,
   "metadata": {},
   "outputs": [],
   "source": [
    "#df_plus.loc[df_plus[\"Duration\"]<=120, \"Duration_bins\"] = \"2 or less\""
   ]
  },
  {
   "cell_type": "code",
   "execution_count": null,
   "metadata": {},
   "outputs": [],
   "source": [
    "df_plus.loc[(df_plus[\"Duration\"]<=300), \"Duration_bins\"] = \"0 to5\"\n",
    "df_plus.loc[(df_plus[\"Duration\"]<=600) & (df_plus[\"Duration\"] > 300), \"Duration_bins\"] = \"05 to10\"\n",
    "df_plus.loc[(df_plus[\"Duration\"]<=900) & (df_plus[\"Duration\"] > 600), \"Duration_bins\"] = \"10 to 15\"\n",
    "df_plus.loc[(df_plus[\"Duration\"]<=1800) & (df_plus[\"Duration\"] > 900), \"Duration_bins\"] = \"15 to 30\"\n",
    "df_plus.loc[(df_plus[\"Duration\"]<=3600) & (df_plus[\"Duration\"] > 1800), \"Duration_bins\"] = \"30 to 60\"\n",
    "df_plus.loc[(df_plus[\"Duration\"]<=5400) & (df_plus[\"Duration\"] > 3600), \"Duration_bins\"] = \"60 to 90\"\n",
    "df_plus.loc[df_plus[\"Duration\"] > 5400, \"Duration_bins\"] = \"90 or more\""
   ]
  },
  {
   "cell_type": "code",
   "execution_count": null,
   "metadata": {},
   "outputs": [],
   "source": [
    "plt.plot(df_plus[df_plus[\"PRCP\"]==0][:1500000].groupby(\"Duration_bins\").count()[\"Duration\"].index, df_plus[df_plus[\"PRCP\"]==0][:1500000].groupby(\"Duration_bins\").count()[\"Duration\"])\n",
    "plt.plot(df_plus[df_plus[\"PRCP\"]>0][:1500000].groupby(\"Duration_bins\").count()[\"Duration\"].index, df_plus[(df_plus[\"PRCP\"]>0)][:1500000].groupby(\"Duration_bins\").count()[\"Duration\"])"
   ]
  },
  {
   "cell_type": "code",
   "execution_count": null,
   "metadata": {},
   "outputs": [],
   "source": [
    "plt.plot(df_plus[df_plus[\"AWND\"]<5][:500000].groupby(\"Duration_bins\").count()[\"Duration\"].index, df_plus[df_plus[\"AWND\"]<5][:500000].groupby(\"Duration_bins\").count()[\"Duration\"])\n",
    "plt.plot(df_plus[df_plus[\"AWND\"]>5][:500000].groupby(\"Duration_bins\").count()[\"Duration\"].index, df_plus[(df_plus[\"AWND\"]>5)][:500000].groupby(\"Duration_bins\").count()[\"Duration\"])"
   ]
  },
  {
   "cell_type": "code",
   "execution_count": null,
   "metadata": {},
   "outputs": [],
   "source": [
    "plt.plot(df_plus[df_plus[\"TAVG\"]<0][:80000].groupby(\"Duration_bins\").count()[\"Duration\"].index, df_plus[df_plus[\"TAVG\"]<0][:80000].groupby(\"Duration_bins\").count()[\"Duration\"])\n",
    "plt.plot(df_plus[df_plus[\"TAVG\"]>0][:80000].groupby(\"Duration_bins\").count()[\"Duration\"].index, df_plus[(df_plus[\"TAVG\"]>0) & (df_plus[\"TAVG\"]<5)][:80000].groupby(\"Duration_bins\").count()[\"Duration\"])\n",
    "plt.plot(df_plus[df_plus[\"TAVG\"]>5][:80000].groupby(\"Duration_bins\").count()[\"Duration\"].index, df_plus[(df_plus[\"TAVG\"]>5) & (df_plus[\"TAVG\"]<10)][:80000].groupby(\"Duration_bins\").count()[\"Duration\"])\n",
    "plt.plot(df_plus[df_plus[\"TAVG\"]>10][:80000].groupby(\"Duration_bins\").count()[\"Duration\"].index, df_plus[(df_plus[\"TAVG\"]>10) & (df_plus[\"TAVG\"]<20)][:80000].groupby(\"Duration_bins\").count()[\"Duration\"])\n",
    "plt.plot(df_plus[df_plus[\"TAVG\"]>20][:80000].groupby(\"Duration_bins\").count()[\"Duration\"].index, df_plus[(df_plus[\"TAVG\"]>20)][:80000].groupby(\"Duration_bins\").count()[\"Duration\"])"
   ]
  },
  {
   "cell_type": "code",
   "execution_count": null,
   "metadata": {},
   "outputs": [],
   "source": [
    "df_plus.to_csv(\"data/df_main.csv\")"
   ]
  },
  {
   "cell_type": "code",
   "execution_count": null,
   "metadata": {},
   "outputs": [],
   "source": []
  },
  {
   "cell_type": "code",
   "execution_count": null,
   "metadata": {},
   "outputs": [],
   "source": []
  },
  {
   "cell_type": "code",
   "execution_count": null,
   "metadata": {},
   "outputs": [],
   "source": []
  },
  {
   "cell_type": "code",
   "execution_count": null,
   "metadata": {},
   "outputs": [],
   "source": []
  }
 ],
 "metadata": {
  "kernelspec": {
   "display_name": "Python 3",
   "language": "python",
   "name": "python3"
  },
  "language_info": {
   "codemirror_mode": {
    "name": "ipython",
    "version": 3
   },
   "file_extension": ".py",
   "mimetype": "text/x-python",
   "name": "python",
   "nbconvert_exporter": "python",
   "pygments_lexer": "ipython3",
   "version": "3.6.10"
  }
 },
 "nbformat": 4,
 "nbformat_minor": 4
}
